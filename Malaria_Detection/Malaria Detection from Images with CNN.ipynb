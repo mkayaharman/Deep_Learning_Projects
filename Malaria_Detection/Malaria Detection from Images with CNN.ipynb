{
 "cells": [
  {
   "cell_type": "markdown",
   "metadata": {
    "id": "CqyKl6OBsl9A"
   },
   "source": [
    "# Malaria Detection using Deep Learning"
   ]
  },
  {
   "cell_type": "markdown",
   "metadata": {
    "id": "NgJ-_SBHsl9B"
   },
   "source": [
    "\n",
    "# Dataset Info\n",
    "\n",
    "The dataset contains 2 folders - 'parasitized', 'uninfected'\n",
    "\n",
    "And a total of 27,558 images.\n",
    "\n",
    "This Dataset is taken from the official NIH Website: https://ceb.nlm.nih.gov/repositories/malaria-datasets/ "
   ]
  },
  {
   "cell_type": "markdown",
   "metadata": {
    "id": "CMrNns6kobX7"
   },
   "source": [
    "# Import Libraries and Export Images from Zip_File"
   ]
  },
  {
   "cell_type": "code",
   "execution_count": 1,
   "metadata": {
    "executionInfo": {
     "elapsed": 1150,
     "status": "ok",
     "timestamp": 1665216993764,
     "user": {
      "displayName": "Michael Gd",
      "userId": "11180041065344820766"
     },
     "user_tz": -180
    },
    "id": "ULUCJSJzsl9C"
   },
   "outputs": [],
   "source": [
    "import os\n",
    "import numpy as np\n",
    "import pandas as pd\n",
    "import matplotlib.pyplot as plt\n",
    "import seaborn as sns\n",
    "from matplotlib.image import imread\n",
    "\n",
    "# import warnings\n",
    "# warnings.filterwarnings(\"ignore\")\n",
    "# warnings.warn(\"this will not show\")\n",
    "\n",
    "plt.rcParams[\"figure.figsize\"] = (10, 6)\n",
    "\n",
    "sns.set_style(\"whitegrid\")\n",
    "pd.set_option('display.float_format', lambda x: '%.3f' % x)\n",
    "\n",
    "# Set it None to display all rows in the dataframe\n",
    "# pd.set_option('display.max_rows', None)\n",
    "\n",
    "# Set it to None to display all columns in the dataframe\n",
    "pd.set_option('display.max_columns', None)"
   ]
  },
  {
   "cell_type": "code",
   "execution_count": 2,
   "metadata": {
    "colab": {
     "base_uri": "https://localhost:8080/"
    },
    "executionInfo": {
     "elapsed": 2878,
     "status": "ok",
     "timestamp": 1665217003500,
     "user": {
      "displayName": "Michael Gd",
      "userId": "11180041065344820766"
     },
     "user_tz": -180
    },
    "id": "eBfqbn-TgoA4",
    "outputId": "7742960c-617b-44ad-b5d6-041ff984c738"
   },
   "outputs": [
    {
     "name": "stderr",
     "output_type": "stream",
     "text": [
      "2023-01-12 20:43:46.088678: I tensorflow/core/platform/cpu_feature_guard.cc:193] This TensorFlow binary is optimized with oneAPI Deep Neural Network Library (oneDNN) to use the following CPU instructions in performance-critical operations:  SSE4.1 SSE4.2 AVX AVX2 AVX512F AVX512_VNNI FMA\n",
      "To enable them in other operations, rebuild TensorFlow with the appropriate compiler flags.\n",
      "2023-01-12 20:43:46.126910: I tensorflow/core/util/util.cc:169] oneDNN custom operations are on. You may see slightly different numerical results due to floating-point round-off errors from different computation orders. To turn them off, set the environment variable `TF_ENABLE_ONEDNN_OPTS=0`.\n",
      "2023-01-12 20:43:46.813424: I tensorflow/stream_executor/cuda/cuda_gpu_executor.cc:980] successful NUMA node read from SysFS had negative value (-1), but there must be at least one NUMA node, so returning NUMA node zero\n",
      "2023-01-12 20:43:46.825322: I tensorflow/stream_executor/cuda/cuda_gpu_executor.cc:980] successful NUMA node read from SysFS had negative value (-1), but there must be at least one NUMA node, so returning NUMA node zero\n",
      "2023-01-12 20:43:46.825444: I tensorflow/stream_executor/cuda/cuda_gpu_executor.cc:980] successful NUMA node read from SysFS had negative value (-1), but there must be at least one NUMA node, so returning NUMA node zero\n"
     ]
    },
    {
     "data": {
      "text/plain": [
       "[PhysicalDevice(name='/physical_device:GPU:0', device_type='GPU')]"
      ]
     },
     "execution_count": 2,
     "metadata": {},
     "output_type": "execute_result"
    }
   ],
   "source": [
    "import tensorflow as tf\n",
    "\n",
    "tf.config.list_physical_devices(\"GPU\")"
   ]
  },
  {
   "cell_type": "code",
   "execution_count": 4,
   "metadata": {
    "colab": {
     "base_uri": "https://localhost:8080/"
    },
    "executionInfo": {
     "elapsed": 18336,
     "status": "ok",
     "timestamp": 1665217021825,
     "user": {
      "displayName": "Michael Gd",
      "userId": "11180041065344820766"
     },
     "user_tz": -180
    },
    "id": "GnnB7Iigsl9E",
    "outputId": "b9deaee8-e405-4c58-d231-707bc9d5b9aa"
   },
   "outputs": [],
   "source": [
    "# from google.colab import drive\n",
    "# drive.mount('/content/drive')"
   ]
  },
  {
   "cell_type": "code",
   "execution_count": 5,
   "metadata": {
    "executionInfo": {
     "elapsed": 6943,
     "status": "ok",
     "timestamp": 1665217028764,
     "user": {
      "displayName": "Michael Gd",
      "userId": "11180041065344820766"
     },
     "user_tz": -180
    },
    "id": "HKxrKtV5H77z"
   },
   "outputs": [],
   "source": [
    "# import zipfile\n",
    "\n",
    "# # Unzip the file\n",
    "# zip_ref = zipfile.ZipFile(\"./cell_images.zip\", \"r\")\n",
    "# zip_ref.extractall()\n",
    "# zip_ref.close()"
   ]
  },
  {
   "cell_type": "markdown",
   "metadata": {
    "id": "YTyh7iXXsl9E"
   },
   "source": [
    "# Recognizing and Understanding Data"
   ]
  },
  {
   "cell_type": "code",
   "execution_count": 6,
   "metadata": {
    "executionInfo": {
     "elapsed": 283,
     "status": "ok",
     "timestamp": 1665217045286,
     "user": {
      "displayName": "Michael Gd",
      "userId": "11180041065344820766"
     },
     "user_tz": -180
    },
    "id": "BxDyRgOYdiDB"
   },
   "outputs": [],
   "source": [
    "my_data_dir = \"cell_images\""
   ]
  },
  {
   "cell_type": "code",
   "execution_count": 7,
   "metadata": {
    "colab": {
     "base_uri": "https://localhost:8080/"
    },
    "executionInfo": {
     "elapsed": 268,
     "status": "ok",
     "timestamp": 1665217047234,
     "user": {
      "displayName": "Michael Gd",
      "userId": "11180041065344820766"
     },
     "user_tz": -180
    },
    "id": "AQVM6TYWsl9G",
    "outputId": "a56f4322-cb59-45bd-f22f-f710648917de"
   },
   "outputs": [
    {
     "data": {
      "text/plain": [
       "['test', 'train']"
      ]
     },
     "execution_count": 7,
     "metadata": {},
     "output_type": "execute_result"
    }
   ],
   "source": [
    "# CONFIRM THAT THIS REPORTS BACK 'test', and 'train'\n",
    "os.listdir(my_data_dir) "
   ]
  },
  {
   "cell_type": "code",
   "execution_count": 8,
   "metadata": {
    "executionInfo": {
     "elapsed": 315,
     "status": "ok",
     "timestamp": 1665217102451,
     "user": {
      "displayName": "Michael Gd",
      "userId": "11180041065344820766"
     },
     "user_tz": -180
    },
    "id": "Chik3r8Ysl9H"
   },
   "outputs": [],
   "source": [
    "test_path = os.path.join(my_data_dir, 'test')\n",
    "train_path = os.path.join(my_data_dir, 'train')"
   ]
  },
  {
   "cell_type": "code",
   "execution_count": 9,
   "metadata": {
    "colab": {
     "base_uri": "https://localhost:8080/"
    },
    "executionInfo": {
     "elapsed": 5,
     "status": "ok",
     "timestamp": 1665217103248,
     "user": {
      "displayName": "Michael Gd",
      "userId": "11180041065344820766"
     },
     "user_tz": -180
    },
    "id": "hO_ct-D3sl9H",
    "outputId": "eaf0a975-2cc8-41c0-e922-6a2b23c2a232"
   },
   "outputs": [
    {
     "data": {
      "text/plain": [
       "['parasitized', 'uninfected']"
      ]
     },
     "execution_count": 9,
     "metadata": {},
     "output_type": "execute_result"
    }
   ],
   "source": [
    "os.listdir(test_path)"
   ]
  },
  {
   "cell_type": "code",
   "execution_count": 10,
   "metadata": {
    "colab": {
     "base_uri": "https://localhost:8080/"
    },
    "executionInfo": {
     "elapsed": 6,
     "status": "ok",
     "timestamp": 1665217104650,
     "user": {
      "displayName": "Michael Gd",
      "userId": "11180041065344820766"
     },
     "user_tz": -180
    },
    "id": "QN6kB1Ezsl9I",
    "outputId": "287223b4-8985-4472-8dc1-4dfbf31bba90"
   },
   "outputs": [
    {
     "data": {
      "text/plain": [
       "['parasitized', 'uninfected']"
      ]
     },
     "execution_count": 10,
     "metadata": {},
     "output_type": "execute_result"
    }
   ],
   "source": [
    "os.listdir(train_path)"
   ]
  },
  {
   "cell_type": "code",
   "execution_count": 11,
   "metadata": {
    "colab": {
     "base_uri": "https://localhost:8080/"
    },
    "executionInfo": {
     "elapsed": 4,
     "status": "ok",
     "timestamp": 1665217105467,
     "user": {
      "displayName": "Michael Gd",
      "userId": "11180041065344820766"
     },
     "user_tz": -180
    },
    "id": "eC4GUi8Jp8Rq",
    "outputId": "d87fa235-9d31-4a3f-b87b-8fde021b74c0"
   },
   "outputs": [
    {
     "data": {
      "text/plain": [
       "['parasitized', 'uninfected']"
      ]
     },
     "execution_count": 11,
     "metadata": {},
     "output_type": "execute_result"
    }
   ],
   "source": [
    "classes = os.listdir(train_path)\n",
    "classes"
   ]
  },
  {
   "cell_type": "code",
   "execution_count": 12,
   "metadata": {
    "colab": {
     "base_uri": "https://localhost:8080/"
    },
    "executionInfo": {
     "elapsed": 4,
     "status": "ok",
     "timestamp": 1665217106607,
     "user": {
      "displayName": "Michael Gd",
      "userId": "11180041065344820766"
     },
     "user_tz": -180
    },
    "id": "AYrKX5pqe8Ky",
    "outputId": "65492f60-d2f8-42c1-acda-38d8b1bd58e1"
   },
   "outputs": [
    {
     "name": "stdout",
     "output_type": "stream",
     "text": [
      "['parasitized' 'uninfected']\n"
     ]
    }
   ],
   "source": [
    "import pathlib\n",
    "\n",
    "data_dir = pathlib.Path(train_path)  # turn our training path into a Python path\n",
    "class_names = np.array(sorted([item.name for item in data_dir.glob('*')]))\n",
    "# created a list of class_names from the subdirectories\n",
    "print(class_names)"
   ]
  },
  {
   "cell_type": "code",
   "execution_count": 13,
   "metadata": {
    "colab": {
     "base_uri": "https://localhost:8080/"
    },
    "executionInfo": {
     "elapsed": 5,
     "status": "ok",
     "timestamp": 1665217107592,
     "user": {
      "displayName": "Michael Gd",
      "userId": "11180041065344820766"
     },
     "user_tz": -180
    },
    "id": "17L-4uqGptMS",
    "outputId": "90cd6feb-b9db-4c25-f55f-47b5ffbea25f"
   },
   "outputs": [
    {
     "data": {
      "text/plain": [
       "array(['parasitized', 'uninfected'], dtype='<U11')"
      ]
     },
     "execution_count": 13,
     "metadata": {},
     "output_type": "execute_result"
    }
   ],
   "source": [
    "class_names"
   ]
  },
  {
   "cell_type": "markdown",
   "metadata": {
    "id": "mFVLtsmLsl9N"
   },
   "source": [
    "**Let's check how many images there are.**"
   ]
  },
  {
   "cell_type": "code",
   "execution_count": 14,
   "metadata": {
    "colab": {
     "base_uri": "https://localhost:8080/"
    },
    "executionInfo": {
     "elapsed": 5,
     "status": "ok",
     "timestamp": 1665217110166,
     "user": {
      "displayName": "Michael Gd",
      "userId": "11180041065344820766"
     },
     "user_tz": -180
    },
    "id": "uYCWoVG1qPNo",
    "outputId": "cdf0484c-8163-432b-c234-c796704cb506"
   },
   "outputs": [
    {
     "data": {
      "text/plain": [
       "['C100P61ThinF_IMG_20150918_145938_cell_174.png',\n",
       " 'C111P72ThinF_IMG_20150930_113049_cell_166.png',\n",
       " 'C59P20thinF_IMG_20150803_111333_cell_144.png',\n",
       " 'C80P41ThinF_IMG_20150817_110608_cell_152.png',\n",
       " 'C118P79ThinF_IMG_20151002_105018_cell_159.png']"
      ]
     },
     "execution_count": 14,
     "metadata": {},
     "output_type": "execute_result"
    }
   ],
   "source": [
    "os.listdir(os.path.join(train_path, 'parasitized'))[:5]"
   ]
  },
  {
   "cell_type": "code",
   "execution_count": 15,
   "metadata": {
    "colab": {
     "base_uri": "https://localhost:8080/"
    },
    "executionInfo": {
     "elapsed": 282,
     "status": "ok",
     "timestamp": 1665217140463,
     "user": {
      "displayName": "Michael Gd",
      "userId": "11180041065344820766"
     },
     "user_tz": -180
    },
    "id": "U3zWAaJRsl9N",
    "outputId": "73c4ede4-aa34-480e-e0ff-ee71d77d9da9"
   },
   "outputs": [
    {
     "data": {
      "text/plain": [
       "(12479, 12479)"
      ]
     },
     "execution_count": 15,
     "metadata": {},
     "output_type": "execute_result"
    }
   ],
   "source": [
    "len(os.listdir(os.path.join(train_path, 'parasitized'))), len(os.listdir(os.path.join(train_path, 'uninfected')))"
   ]
  },
  {
   "cell_type": "code",
   "execution_count": 16,
   "metadata": {
    "colab": {
     "base_uri": "https://localhost:8080/"
    },
    "executionInfo": {
     "elapsed": 365,
     "status": "ok",
     "timestamp": 1665217141248,
     "user": {
      "displayName": "Michael Gd",
      "userId": "11180041065344820766"
     },
     "user_tz": -180
    },
    "id": "pQluIckosl9O",
    "outputId": "c4c6328e-c56d-4c93-a4fd-65f6ef764293"
   },
   "outputs": [
    {
     "data": {
      "text/plain": [
       "(1300, 1300)"
      ]
     },
     "execution_count": 16,
     "metadata": {},
     "output_type": "execute_result"
    }
   ],
   "source": [
    "len(os.listdir(os.path.join(test_path, 'parasitized'))), len(os.listdir(os.path.join(test_path, 'uninfected')))"
   ]
  },
  {
   "cell_type": "code",
   "execution_count": 17,
   "metadata": {
    "colab": {
     "base_uri": "https://localhost:8080/"
    },
    "executionInfo": {
     "elapsed": 27,
     "status": "ok",
     "timestamp": 1665217141249,
     "user": {
      "displayName": "Michael Gd",
      "userId": "11180041065344820766"
     },
     "user_tz": -180
    },
    "id": "nz_3zdr4avaP",
    "outputId": "6d781cdd-b7f7-414d-c569-9b1ae51289c6"
   },
   "outputs": [
    {
     "name": "stdout",
     "output_type": "stream",
     "text": [
      "There are 2 directories and 0 images in 'cell_images'.\n",
      "There are 2 directories and 0 images in 'cell_images/test'.\n",
      "There are 0 directories and 1300 images in 'cell_images/test/parasitized'.\n",
      "There are 0 directories and 1300 images in 'cell_images/test/uninfected'.\n",
      "There are 2 directories and 0 images in 'cell_images/train'.\n",
      "There are 0 directories and 12479 images in 'cell_images/train/parasitized'.\n",
      "There are 0 directories and 12479 images in 'cell_images/train/uninfected'.\n"
     ]
    }
   ],
   "source": [
    "# Walk through cell_images directory and list number of files\n",
    "for dirpath, dirnames, filenames in os.walk(my_data_dir):\n",
    "    print(f\"There are {len(dirnames)} directories and {len(filenames)} images in '{dirpath}'.\")"
   ]
  },
  {
   "cell_type": "markdown",
   "metadata": {
    "id": "2docX2FutRHv"
   },
   "source": [
    "**Let's take an example images from both train-parasitized and train-uninfected folders to observe process** "
   ]
  },
  {
   "cell_type": "code",
   "execution_count": 18,
   "metadata": {
    "colab": {
     "base_uri": "https://localhost:8080/"
    },
    "executionInfo": {
     "elapsed": 23,
     "status": "ok",
     "timestamp": 1665217141250,
     "user": {
      "displayName": "Michael Gd",
      "userId": "11180041065344820766"
     },
     "user_tz": -180
    },
    "id": "wUZcZtQWsl9I",
    "outputId": "a6cc69ce-c1b5-442c-a647-50148d7a88a6"
   },
   "outputs": [
    {
     "data": {
      "text/plain": [
       "['C100P61ThinF_IMG_20150918_145938_cell_174.png',\n",
       " 'C111P72ThinF_IMG_20150930_113049_cell_166.png',\n",
       " 'C59P20thinF_IMG_20150803_111333_cell_144.png',\n",
       " 'C80P41ThinF_IMG_20150817_110608_cell_152.png',\n",
       " 'C118P79ThinF_IMG_20151002_105018_cell_159.png',\n",
       " 'C183P144NThinF_IMG_20151201_224107_cell_132.png',\n",
       " 'C182P143NThinF_IMG_20151201_171950_cell_172.png',\n",
       " 'C120P81ThinF_IMG_20151002_130715_cell_189.png',\n",
       " 'C131P92ThinF_IMG_20151004_151126_cell_127.png',\n",
       " 'C129P90ThinF_IMG_20151004_134700_cell_21.png']"
      ]
     },
     "execution_count": 18,
     "metadata": {},
     "output_type": "execute_result"
    }
   ],
   "source": [
    "os.listdir(os.path.join(train_path, 'parasitized'))[:10]"
   ]
  },
  {
   "cell_type": "code",
   "execution_count": 19,
   "metadata": {
    "colab": {
     "base_uri": "https://localhost:8080/",
     "height": 36
    },
    "executionInfo": {
     "elapsed": 21,
     "status": "ok",
     "timestamp": 1665217141252,
     "user": {
      "displayName": "Michael Gd",
      "userId": "11180041065344820766"
     },
     "user_tz": -180
    },
    "id": "90IdG6knsl9J",
    "outputId": "45052f30-e69b-4130-d2c6-7d926ccb8b06"
   },
   "outputs": [
    {
     "data": {
      "text/plain": [
       "'C183P144NThinF_IMG_20151201_224107_cell_132.png'"
      ]
     },
     "execution_count": 19,
     "metadata": {},
     "output_type": "execute_result"
    }
   ],
   "source": [
    "os.listdir(os.path.join(train_path, 'parasitized'))[5]"
   ]
  },
  {
   "cell_type": "code",
   "execution_count": 20,
   "metadata": {
    "executionInfo": {
     "elapsed": 20,
     "status": "ok",
     "timestamp": 1665217141253,
     "user": {
      "displayName": "Michael Gd",
      "userId": "11180041065344820766"
     },
     "user_tz": -180
    },
    "id": "rKvIiLAssl9J"
   },
   "outputs": [],
   "source": [
    "para_cell_path = os.path.join(train_path, 'parasitized', os.listdir(os.path.join(train_path, 'parasitized'))[5])"
   ]
  },
  {
   "cell_type": "code",
   "execution_count": 21,
   "metadata": {
    "colab": {
     "base_uri": "https://localhost:8080/",
     "height": 36
    },
    "executionInfo": {
     "elapsed": 20,
     "status": "ok",
     "timestamp": 1665217141254,
     "user": {
      "displayName": "Michael Gd",
      "userId": "11180041065344820766"
     },
     "user_tz": -180
    },
    "id": "L5V2hllmsl9J",
    "outputId": "464a42bd-6aa2-43c6-adf7-9116b5bdccf2"
   },
   "outputs": [
    {
     "data": {
      "text/plain": [
       "'cell_images/train/parasitized/C183P144NThinF_IMG_20151201_224107_cell_132.png'"
      ]
     },
     "execution_count": 21,
     "metadata": {},
     "output_type": "execute_result"
    }
   ],
   "source": [
    "para_cell_path"
   ]
  },
  {
   "cell_type": "code",
   "execution_count": 22,
   "metadata": {
    "colab": {
     "base_uri": "https://localhost:8080/"
    },
    "executionInfo": {
     "elapsed": 21,
     "status": "ok",
     "timestamp": 1665217141256,
     "user": {
      "displayName": "Michael Gd",
      "userId": "11180041065344820766"
     },
     "user_tz": -180
    },
    "id": "bgtb1aRfsl9K",
    "outputId": "35a32c3c-409f-422f-ef8a-b8e0e7b2e0b6"
   },
   "outputs": [
    {
     "data": {
      "text/plain": [
       "array([[[0., 0., 0.],\n",
       "        [0., 0., 0.],\n",
       "        [0., 0., 0.],\n",
       "        ...,\n",
       "        [0., 0., 0.],\n",
       "        [0., 0., 0.],\n",
       "        [0., 0., 0.]],\n",
       "\n",
       "       [[0., 0., 0.],\n",
       "        [0., 0., 0.],\n",
       "        [0., 0., 0.],\n",
       "        ...,\n",
       "        [0., 0., 0.],\n",
       "        [0., 0., 0.],\n",
       "        [0., 0., 0.]],\n",
       "\n",
       "       [[0., 0., 0.],\n",
       "        [0., 0., 0.],\n",
       "        [0., 0., 0.],\n",
       "        ...,\n",
       "        [0., 0., 0.],\n",
       "        [0., 0., 0.],\n",
       "        [0., 0., 0.]],\n",
       "\n",
       "       ...,\n",
       "\n",
       "       [[0., 0., 0.],\n",
       "        [0., 0., 0.],\n",
       "        [0., 0., 0.],\n",
       "        ...,\n",
       "        [0., 0., 0.],\n",
       "        [0., 0., 0.],\n",
       "        [0., 0., 0.]],\n",
       "\n",
       "       [[0., 0., 0.],\n",
       "        [0., 0., 0.],\n",
       "        [0., 0., 0.],\n",
       "        ...,\n",
       "        [0., 0., 0.],\n",
       "        [0., 0., 0.],\n",
       "        [0., 0., 0.]],\n",
       "\n",
       "       [[0., 0., 0.],\n",
       "        [0., 0., 0.],\n",
       "        [0., 0., 0.],\n",
       "        ...,\n",
       "        [0., 0., 0.],\n",
       "        [0., 0., 0.],\n",
       "        [0., 0., 0.]]], dtype=float32)"
      ]
     },
     "execution_count": 22,
     "metadata": {},
     "output_type": "execute_result"
    }
   ],
   "source": [
    "imread(para_cell_path)"
   ]
  },
  {
   "cell_type": "code",
   "execution_count": 23,
   "metadata": {
    "executionInfo": {
     "elapsed": 18,
     "status": "ok",
     "timestamp": 1665217141257,
     "user": {
      "displayName": "Michael Gd",
      "userId": "11180041065344820766"
     },
     "user_tz": -180
    },
    "id": "GsObRYqksl9K"
   },
   "outputs": [],
   "source": [
    "para_cell = imread(para_cell_path)"
   ]
  },
  {
   "cell_type": "code",
   "execution_count": 24,
   "metadata": {
    "colab": {
     "base_uri": "https://localhost:8080/",
     "height": 377
    },
    "executionInfo": {
     "elapsed": 683,
     "status": "ok",
     "timestamp": 1665217141923,
     "user": {
      "displayName": "Michael Gd",
      "userId": "11180041065344820766"
     },
     "user_tz": -180
    },
    "id": "7E8cwW2osl9K",
    "outputId": "d1ccfb91-8697-4cce-a436-3dac73e411a5"
   },
   "outputs": [
    {
     "data": {
      "image/png": "[encoded data removed]",
      "text/plain": [
       "<Figure size 1000x600 with 1 Axes>"
      ]
     },
     "metadata": {},
     "output_type": "display_data"
    }
   ],
   "source": [
    "plt.imshow(para_cell);"
   ]
  },
  {
   "cell_type": "code",
   "execution_count": 25,
   "metadata": {
    "colab": {
     "base_uri": "https://localhost:8080/"
    },
    "executionInfo": {
     "elapsed": 14,
     "status": "ok",
     "timestamp": 1665217141924,
     "user": {
      "displayName": "Michael Gd",
      "userId": "11180041065344820766"
     },
     "user_tz": -180
    },
    "id": "XDpeTqBdsl9L",
    "outputId": "3d20822c-93b5-4806-d3b6-0e720439ebba"
   },
   "outputs": [
    {
     "data": {
      "text/plain": [
       "(130, 121, 3)"
      ]
     },
     "execution_count": 25,
     "metadata": {},
     "output_type": "execute_result"
    }
   ],
   "source": [
    "para_cell.shape"
   ]
  },
  {
   "cell_type": "code",
   "execution_count": 26,
   "metadata": {
    "colab": {
     "base_uri": "https://localhost:8080/"
    },
    "executionInfo": {
     "elapsed": 9,
     "status": "ok",
     "timestamp": 1665217141925,
     "user": {
      "displayName": "Michael Gd",
      "userId": "11180041065344820766"
     },
     "user_tz": -180
    },
    "id": "pj1xYpfksl9M",
    "outputId": "440ab2bf-c8ce-4043-de06-eebd4c1e842b"
   },
   "outputs": [
    {
     "data": {
      "text/plain": [
       "['C167P128ReThinF_IMG_20151201_105354_cell_132.png',\n",
       " 'C79P40ThinF_IMG_20150817_102823_cell_4.png',\n",
       " 'C211ThinF_IMG_20151029_164248_cell_112.png',\n",
       " 'C218ThinF_IMG_20151106_144337_cell_165.png',\n",
       " 'C223ThinF_IMG_20151112_103809_cell_122.png',\n",
       " 'C163P124ThinF_IMG_20151116_111147_cell_1.png',\n",
       " 'C110P71ThinF_IMG_20150930_110052_cell_83.png',\n",
       " 'C144P105ThinF_IMG_20151015_155149_cell_140.png',\n",
       " 'C187P148NThinF_IMG_20151203_153410_cell_114.png',\n",
       " 'C165P126ThinF_IMG_20151117_171646_cell_55.png']"
      ]
     },
     "execution_count": 26,
     "metadata": {},
     "output_type": "execute_result"
    }
   ],
   "source": [
    "os.listdir(os.path.join(train_path, 'uninfected'))[:10]"
   ]
  },
  {
   "cell_type": "code",
   "execution_count": 27,
   "metadata": {
    "executionInfo": {
     "elapsed": 777,
     "status": "ok",
     "timestamp": 1665217142696,
     "user": {
      "displayName": "Michael Gd",
      "userId": "11180041065344820766"
     },
     "user_tz": -180
    },
    "id": "scyqIWQmsl9M"
   },
   "outputs": [],
   "source": [
    "uninfected_cell_path = os.path.join(train_path, 'uninfected/', os.listdir(os.path.join(train_path, 'uninfected'))[5])"
   ]
  },
  {
   "cell_type": "code",
   "execution_count": 28,
   "metadata": {
    "colab": {
     "base_uri": "https://localhost:8080/"
    },
    "executionInfo": {
     "elapsed": 35,
     "status": "ok",
     "timestamp": 1665217142698,
     "user": {
      "displayName": "Michael Gd",
      "userId": "11180041065344820766"
     },
     "user_tz": -180
    },
    "id": "8sac1keAsl9M",
    "outputId": "785797b5-06b6-4cd6-d7ac-3bcde91c5011"
   },
   "outputs": [
    {
     "data": {
      "text/plain": [
       "array([[[0., 0., 0.],\n",
       "        [0., 0., 0.],\n",
       "        [0., 0., 0.],\n",
       "        ...,\n",
       "        [0., 0., 0.],\n",
       "        [0., 0., 0.],\n",
       "        [0., 0., 0.]],\n",
       "\n",
       "       [[0., 0., 0.],\n",
       "        [0., 0., 0.],\n",
       "        [0., 0., 0.],\n",
       "        ...,\n",
       "        [0., 0., 0.],\n",
       "        [0., 0., 0.],\n",
       "        [0., 0., 0.]],\n",
       "\n",
       "       [[0., 0., 0.],\n",
       "        [0., 0., 0.],\n",
       "        [0., 0., 0.],\n",
       "        ...,\n",
       "        [0., 0., 0.],\n",
       "        [0., 0., 0.],\n",
       "        [0., 0., 0.]],\n",
       "\n",
       "       ...,\n",
       "\n",
       "       [[0., 0., 0.],\n",
       "        [0., 0., 0.],\n",
       "        [0., 0., 0.],\n",
       "        ...,\n",
       "        [0., 0., 0.],\n",
       "        [0., 0., 0.],\n",
       "        [0., 0., 0.]],\n",
       "\n",
       "       [[0., 0., 0.],\n",
       "        [0., 0., 0.],\n",
       "        [0., 0., 0.],\n",
       "        ...,\n",
       "        [0., 0., 0.],\n",
       "        [0., 0., 0.],\n",
       "        [0., 0., 0.]],\n",
       "\n",
       "       [[0., 0., 0.],\n",
       "        [0., 0., 0.],\n",
       "        [0., 0., 0.],\n",
       "        ...,\n",
       "        [0., 0., 0.],\n",
       "        [0., 0., 0.],\n",
       "        [0., 0., 0.]]], dtype=float32)"
      ]
     },
     "execution_count": 28,
     "metadata": {},
     "output_type": "execute_result"
    }
   ],
   "source": [
    "imread(uninfected_cell_path)"
   ]
  },
  {
   "cell_type": "code",
   "execution_count": 29,
   "metadata": {
    "colab": {
     "base_uri": "https://localhost:8080/",
     "height": 377
    },
    "executionInfo": {
     "elapsed": 29,
     "status": "ok",
     "timestamp": 1665217142699,
     "user": {
      "displayName": "Michael Gd",
      "userId": "11180041065344820766"
     },
     "user_tz": -180
    },
    "id": "GYQ6VT4Esl9N",
    "outputId": "682eb656-aa8b-44ac-c7f8-504df3b21cb4"
   },
   "outputs": [
    {
     "data": {
      "image/png": "[encoded data removed]",
      "text/plain": [
       "<Figure size 1000x600 with 1 Axes>"
      ]
     },
     "metadata": {},
     "output_type": "display_data"
    }
   ],
   "source": [
    "# plt.imshow(imread(uninfected_cell_path));\n",
    "uninfected_cell = imread(uninfected_cell_path)\n",
    "plt.imshow(uninfected_cell);"
   ]
  },
  {
   "cell_type": "code",
   "execution_count": 30,
   "metadata": {
    "colab": {
     "base_uri": "https://localhost:8080/"
    },
    "executionInfo": {
     "elapsed": 28,
     "status": "ok",
     "timestamp": 1665217142700,
     "user": {
      "displayName": "Michael Gd",
      "userId": "11180041065344820766"
     },
     "user_tz": -180
    },
    "id": "GREBe_GIrZtp",
    "outputId": "b7602ef1-935d-465f-99d1-365422e611ed"
   },
   "outputs": [
    {
     "data": {
      "text/plain": [
       "(121, 124, 3)"
      ]
     },
     "execution_count": 30,
     "metadata": {},
     "output_type": "execute_result"
    }
   ],
   "source": [
    "uninfected_cell.shape"
   ]
  },
  {
   "cell_type": "code",
   "execution_count": 31,
   "metadata": {
    "executionInfo": {
     "elapsed": 24,
     "status": "ok",
     "timestamp": 1665217142701,
     "user": {
      "displayName": "Michael Gd",
      "userId": "11180041065344820766"
     },
     "user_tz": -180
    },
    "id": "E0jEJVskgsKG"
   },
   "outputs": [],
   "source": [
    "# View a random image\n",
    "import random\n",
    "\n",
    "\n",
    "def view_random_image(target_dir, target_class):\n",
    "    \"\"\"Returns a randomly selected image after displaying it,\n",
    "    given directory path and class names.\n",
    "    Args:\n",
    "        target_dir (str): Relative path to the target directory\n",
    "        target_class (str): The name of the target class to randomly select a picture from\n",
    "    Returns:\n",
    "        img (np.ndarray): Randomly selected image as np.ndarray\n",
    "    \"\"\"\n",
    "    # Setup target directory (we'll view images from here)\n",
    "    target_folder = os.path.join(target_dir, target_class)\n",
    "\n",
    "    # Get a random image path\n",
    "    random_image = random.sample(os.listdir(target_folder), 1)\n",
    "\n",
    "    # Read in the image and plot it using matplotlib\n",
    "    img = imread(os.path.join(target_folder, random_image[0]))\n",
    "    plt.imshow(img)\n",
    "    plt.title(target_class)\n",
    "    plt.axis(\"off\");\n",
    "\n",
    "    print(f\"Image shape: {img.shape}\")  # show the shape of the image\n",
    "\n",
    "    return img"
   ]
  },
  {
   "cell_type": "code",
   "execution_count": 32,
   "metadata": {
    "colab": {
     "base_uri": "https://localhost:8080/",
     "height": 391
    },
    "executionInfo": {
     "elapsed": 24,
     "status": "ok",
     "timestamp": 1665217142702,
     "user": {
      "displayName": "Michael Gd",
      "userId": "11180041065344820766"
     },
     "user_tz": -180
    },
    "id": "khW2E0HmgsUe",
    "outputId": "5bdd9f5a-bea1-4046-b6f4-7136cf96ab32"
   },
   "outputs": [
    {
     "name": "stdout",
     "output_type": "stream",
     "text": [
      "Image shape: (109, 115, 3)\n"
     ]
    },
    {
     "data": {
      "image/png": "[encoded data removed]",
      "text/plain": [
       "<Figure size 1000x600 with 1 Axes>"
      ]
     },
     "metadata": {},
     "output_type": "display_data"
    }
   ],
   "source": [
    "# View a random image from the training dataset\n",
    "img = view_random_image(target_dir=train_path,\n",
    "                        target_class=\"parasitized\")"
   ]
  },
  {
   "cell_type": "code",
   "execution_count": 33,
   "metadata": {
    "colab": {
     "base_uri": "https://localhost:8080/",
     "height": 391
    },
    "executionInfo": {
     "elapsed": 656,
     "status": "ok",
     "timestamp": 1665217143341,
     "user": {
      "displayName": "Michael Gd",
      "userId": "11180041065344820766"
     },
     "user_tz": -180
    },
    "id": "BcEpw1GPgseo",
    "outputId": "0bd19b9c-2edb-46b3-e781-2f1ecbd1ffe2"
   },
   "outputs": [
    {
     "name": "stdout",
     "output_type": "stream",
     "text": [
      "Image shape: (118, 130, 3)\n"
     ]
    },
    {
     "data": {
      "image/png": "[encoded data removed]",
      "text/plain": [
       "<Figure size 1000x600 with 1 Axes>"
      ]
     },
     "metadata": {},
     "output_type": "display_data"
    }
   ],
   "source": [
    "# View a random image from the training dataset\n",
    "img = view_random_image(target_dir=train_path,\n",
    "                        target_class=\"uninfected\")"
   ]
  },
  {
   "cell_type": "code",
   "execution_count": 34,
   "metadata": {
    "colab": {
     "base_uri": "https://localhost:8080/",
     "height": 391
    },
    "executionInfo": {
     "elapsed": 62,
     "status": "ok",
     "timestamp": 1665217143342,
     "user": {
      "displayName": "Michael Gd",
      "userId": "11180041065344820766"
     },
     "user_tz": -180
    },
    "id": "KwuIL3FdAXlZ",
    "outputId": "edf801d2-cb01-49d7-c778-9093e6d1798e"
   },
   "outputs": [
    {
     "name": "stdout",
     "output_type": "stream",
     "text": [
      "Image shape: (124, 109, 3)\n"
     ]
    },
    {
     "data": {
      "image/png": "[encoded data removed]",
      "text/plain": [
       "<Figure size 1000x600 with 1 Axes>"
      ]
     },
     "metadata": {},
     "output_type": "display_data"
    }
   ],
   "source": [
    "# View a random image from the training dataset\n",
    "import random\n",
    "img = view_random_image(target_dir=train_path,\n",
    "                        target_class=random.choice(class_names))  # get a random class name"
   ]
  },
  {
   "cell_type": "markdown",
   "metadata": {
    "id": "7qmejxHxsl9O"
   },
   "source": [
    "# Data Preprocessing"
   ]
  },
  {
   "cell_type": "markdown",
   "metadata": {
    "id": "LH--CKJ0sl9O"
   },
   "source": [
    "## Defining Input Shape"
   ]
  },
  {
   "cell_type": "markdown",
   "metadata": {
    "id": "FXz_fh0bsl9O"
   },
   "source": [
    "**Let's decide on the final dimension of these images.**"
   ]
  },
  {
   "cell_type": "code",
   "execution_count": 35,
   "metadata": {
    "colab": {
     "base_uri": "https://localhost:8080/"
    },
    "executionInfo": {
     "elapsed": 41,
     "status": "ok",
     "timestamp": 1665217143344,
     "user": {
      "displayName": "Michael Gd",
      "userId": "11180041065344820766"
     },
     "user_tz": -180
    },
    "id": "yedwAw8Jsl9P",
    "outputId": "6ed440fe-3425-435b-d9b3-3594428a64b7"
   },
   "outputs": [
    {
     "data": {
      "text/plain": [
       "(121, 124, 3)"
      ]
     },
     "execution_count": 35,
     "metadata": {},
     "output_type": "execute_result"
    }
   ],
   "source": [
    "uninfected_cell.shape"
   ]
  },
  {
   "cell_type": "code",
   "execution_count": 36,
   "metadata": {
    "colab": {
     "base_uri": "https://localhost:8080/"
    },
    "executionInfo": {
     "elapsed": 35,
     "status": "ok",
     "timestamp": 1665217143345,
     "user": {
      "displayName": "Michael Gd",
      "userId": "11180041065344820766"
     },
     "user_tz": -180
    },
    "id": "zpfsabyPsl9P",
    "outputId": "80a85a9f-318c-4c7d-8447-042f1b7d9c99"
   },
   "outputs": [
    {
     "data": {
      "text/plain": [
       "(130, 121, 3)"
      ]
     },
     "execution_count": 36,
     "metadata": {},
     "output_type": "execute_result"
    }
   ],
   "source": [
    "para_cell.shape"
   ]
  },
  {
   "cell_type": "markdown",
   "metadata": {
    "cellView": "code",
    "executionInfo": {
     "elapsed": 16,
     "status": "ok",
     "timestamp": 1649265829189,
     "user": {
      "displayName": "Steve Wallace",
      "userId": "06741533186265949524"
     },
     "user_tz": -180
    },
    "id": "c1MICswflLpO",
    "outputId": "976efc35-690f-4c05-a758-e70d72df7d9e"
   },
   "source": [
    "```python\n",
    "x = []\n",
    "y = []\n",
    "\n",
    "for image in os.listdir(train_path+'uninfected'):\n",
    "    img = imread(train_path+'uninfected/'+image)\n",
    "    d1,d2,_ = img.shape\n",
    "    x.append(d1)\n",
    "    y.append(d2)\n",
    "```"
   ]
  },
  {
   "cell_type": "code",
   "execution_count": 37,
   "metadata": {
    "executionInfo": {
     "elapsed": 30613,
     "status": "ok",
     "timestamp": 1665217173933,
     "user": {
      "displayName": "Michael Gd",
      "userId": "11180041065344820766"
     },
     "user_tz": -180
    },
    "id": "Cnndjp3hsl9Q"
   },
   "outputs": [],
   "source": [
    "x = [imread(os.path.join(train_path, 'uninfected', image)).shape[0]\n",
    "     for image in os.listdir(os.path.join(train_path, 'uninfected'))\n",
    "     if 'Thumbs.db' not in image]\n",
    "y = [imread(os.path.join(train_path, 'uninfected', image)).shape[1]\n",
    "     for image in os.listdir(os.path.join(train_path, 'uninfected'))\n",
    "     if 'Thumbs.db' not in image]"
   ]
  },
  {
   "cell_type": "code",
   "execution_count": 38,
   "metadata": {
    "colab": {
     "base_uri": "https://localhost:8080/"
    },
    "executionInfo": {
     "elapsed": 8,
     "status": "ok",
     "timestamp": 1665217173934,
     "user": {
      "displayName": "Michael Gd",
      "userId": "11180041065344820766"
     },
     "user_tz": -180
    },
    "id": "I8coq5Crsl9R",
    "outputId": "9d2d4ab2-e668-417e-d895-27e646496741"
   },
   "outputs": [
    {
     "data": {
      "text/plain": [
       "[124, 112, 142, 121, 139]"
      ]
     },
     "execution_count": 38,
     "metadata": {},
     "output_type": "execute_result"
    }
   ],
   "source": [
    "x[:5]"
   ]
  },
  {
   "cell_type": "code",
   "execution_count": 39,
   "metadata": {
    "colab": {
     "base_uri": "https://localhost:8080/",
     "height": 431
    },
    "executionInfo": {
     "elapsed": 709,
     "status": "ok",
     "timestamp": 1665217174639,
     "user": {
      "displayName": "Michael Gd",
      "userId": "11180041065344820766"
     },
     "user_tz": -180
    },
    "id": "RZ1WZ16Osl9R",
    "outputId": "c94a2f32-5c22-4b6b-f5bc-361eb64007f9"
   },
   "outputs": [
    {
     "data": {
      "image/png": "[encoded data removed]",
      "text/plain": [
       "<Figure size 1000x600 with 1 Axes>"
      ]
     },
     "metadata": {},
     "output_type": "display_data"
    }
   ],
   "source": [
    "sns.scatterplot(x=x, y=y);"
   ]
  },
  {
   "cell_type": "code",
   "execution_count": 40,
   "metadata": {
    "colab": {
     "base_uri": "https://localhost:8080/"
    },
    "executionInfo": {
     "elapsed": 23,
     "status": "ok",
     "timestamp": 1665217174640,
     "user": {
      "displayName": "Michael Gd",
      "userId": "11180041065344820766"
     },
     "user_tz": -180
    },
    "id": "CE2dIZyesl9R",
    "outputId": "273486a8-77ca-4135-d679-f7b01abe94f6"
   },
   "outputs": [
    {
     "data": {
      "text/plain": [
       "(131.64820899110507, 130.0)"
      ]
     },
     "execution_count": 40,
     "metadata": {},
     "output_type": "execute_result"
    }
   ],
   "source": [
    "np.mean(x), np.median(x)"
   ]
  },
  {
   "cell_type": "code",
   "execution_count": 41,
   "metadata": {
    "colab": {
     "base_uri": "https://localhost:8080/"
    },
    "executionInfo": {
     "elapsed": 20,
     "status": "ok",
     "timestamp": 1665217174641,
     "user": {
      "displayName": "Michael Gd",
      "userId": "11180041065344820766"
     },
     "user_tz": -180
    },
    "id": "j-hPSXm7sl9R",
    "outputId": "5d30a183-607d-48f5-b6c5-a36a1be5b2a6"
   },
   "outputs": [
    {
     "data": {
      "text/plain": [
       "(131.4041990544114, 130.0)"
      ]
     },
     "execution_count": 41,
     "metadata": {},
     "output_type": "execute_result"
    }
   ],
   "source": [
    "np.mean(y), np.median(y)"
   ]
  },
  {
   "cell_type": "code",
   "execution_count": 42,
   "metadata": {
    "executionInfo": {
     "elapsed": 16,
     "status": "ok",
     "timestamp": 1665217174641,
     "user": {
      "displayName": "Michael Gd",
      "userId": "11180041065344820766"
     },
     "user_tz": -180
    },
    "id": "XZipjtXssl9S"
   },
   "outputs": [],
   "source": [
    "image_shape = (130, 130, 3)"
   ]
  },
  {
   "cell_type": "markdown",
   "metadata": {
    "id": "nzfQWmOxsl9S"
   },
   "source": [
    "## Scaling"
   ]
  },
  {
   "cell_type": "markdown",
   "metadata": {
    "id": "mKfeQeWbsl9S"
   },
   "source": [
    "**Let's check the images if they are needed to be scaled or not**"
   ]
  },
  {
   "cell_type": "code",
   "execution_count": 43,
   "metadata": {
    "colab": {
     "base_uri": "https://localhost:8080/"
    },
    "executionInfo": {
     "elapsed": 17,
     "status": "ok",
     "timestamp": 1665217174642,
     "user": {
      "displayName": "Michael Gd",
      "userId": "11180041065344820766"
     },
     "user_tz": -180
    },
    "id": "Wh48Bd-1sl9S",
    "outputId": "154952c6-5c4a-4f29-d196-99f1425142b1"
   },
   "outputs": [
    {
     "data": {
      "text/plain": [
       "0.8156863"
      ]
     },
     "execution_count": 43,
     "metadata": {},
     "output_type": "execute_result"
    }
   ],
   "source": [
    "uninfected_cell.max()"
   ]
  },
  {
   "cell_type": "code",
   "execution_count": 44,
   "metadata": {
    "colab": {
     "base_uri": "https://localhost:8080/"
    },
    "executionInfo": {
     "elapsed": 14,
     "status": "ok",
     "timestamp": 1665217174643,
     "user": {
      "displayName": "Michael Gd",
      "userId": "11180041065344820766"
     },
     "user_tz": -180
    },
    "id": "X4lGP4Essl9S",
    "outputId": "b6e147e5-6b4f-420c-fec8-027070808732"
   },
   "outputs": [
    {
     "data": {
      "text/plain": [
       "0.79607844"
      ]
     },
     "execution_count": 44,
     "metadata": {},
     "output_type": "execute_result"
    }
   ],
   "source": [
    "para_cell.max()"
   ]
  },
  {
   "cell_type": "markdown",
   "metadata": {
    "id": "o-rpBt-ysl9S"
   },
   "source": [
    "As we see above, all images have already been scaled"
   ]
  },
  {
   "cell_type": "markdown",
   "metadata": {
    "id": "wwoyEQxasl9T"
   },
   "source": [
    "## Image Data Generator"
   ]
  },
  {
   "cell_type": "markdown",
   "metadata": {
    "id": "rMtI4ruOtZBS"
   },
   "source": [
    "**Image Manipulation**\n",
    "\n",
    "We can use the ImageDataGenerator to manipulate the images with rotation, resizing, and scaling so the model becomes more robust to different images that our data set doesn't have. ImageDataGenerator does the followings.\n",
    "\n",
    "* Accepts a batch of images used for training.\n",
    "* Applies a series of random transformations to each image in the batch.\n",
    "* Replaces the original batch with randomly transformed batch.\n",
    "* Training the CNN on this randomly transformed batch.\n",
    "\n",
    "The goal of applying data augmentation is to have a more generalized model.\n",
    "\n",
    "Data augmentation is a way to try and prevent a model overfitting. If your model is overfiting (e.g. the validation loss keeps increasing), you may want to try using data augmentation."
   ]
  },
  {
   "cell_type": "code",
   "execution_count": 45,
   "metadata": {
    "executionInfo": {
     "elapsed": 13,
     "status": "ok",
     "timestamp": 1665217174645,
     "user": {
      "displayName": "Michael Gd",
      "userId": "11180041065344820766"
     },
     "user_tz": -180
    },
    "id": "PvfAR41Isl9T"
   },
   "outputs": [],
   "source": [
    "from tensorflow.keras.preprocessing.image import ImageDataGenerator"
   ]
  },
  {
   "cell_type": "code",
   "execution_count": 46,
   "metadata": {
    "executionInfo": {
     "elapsed": 13,
     "status": "ok",
     "timestamp": 1665217174646,
     "user": {
      "displayName": "Michael Gd",
      "userId": "11180041065344820766"
     },
     "user_tz": -180
    },
    "id": "-R0eYE5esl9T"
   },
   "outputs": [],
   "source": [
    "# help(ImageDataGenerator)"
   ]
  },
  {
   "cell_type": "code",
   "execution_count": 47,
   "metadata": {
    "executionInfo": {
     "elapsed": 14,
     "status": "ok",
     "timestamp": 1665217174647,
     "user": {
      "displayName": "Michael Gd",
      "userId": "11180041065344820766"
     },
     "user_tz": -180
    },
    "id": "CG7aykrysl9T"
   },
   "outputs": [],
   "source": [
    "image_gen = ImageDataGenerator(rotation_range=15,\n",
    "                               width_shift_range=0.10,\n",
    "                               height_shift_range=0.10,\n",
    "                               # rescale=1/255,\n",
    "                               shear_range=0.1,\n",
    "                               zoom_range=0.1,\n",
    "                               horizontal_flip=True,\n",
    "                               fill_mode='nearest')"
   ]
  },
  {
   "cell_type": "code",
   "execution_count": 48,
   "metadata": {},
   "outputs": [],
   "source": [
    "val_image_gen = ImageDataGenerator()"
   ]
  },
  {
   "cell_type": "code",
   "execution_count": 49,
   "metadata": {
    "colab": {
     "base_uri": "https://localhost:8080/",
     "height": 377
    },
    "executionInfo": {
     "elapsed": 841,
     "status": "ok",
     "timestamp": 1665217175474,
     "user": {
      "displayName": "Michael Gd",
      "userId": "11180041065344820766"
     },
     "user_tz": -180
    },
    "id": "hYjJqytGsl9T",
    "outputId": "6fa2bf77-cb58-470c-970c-af5760f611e0"
   },
   "outputs": [
    {
     "data": {
      "image/png": "[encoded data removed]",
      "text/plain": [
       "<Figure size 1000x600 with 1 Axes>"
      ]
     },
     "metadata": {},
     "output_type": "display_data"
    }
   ],
   "source": [
    "plt.imshow(para_cell);"
   ]
  },
  {
   "cell_type": "code",
   "execution_count": 50,
   "metadata": {
    "colab": {
     "base_uri": "https://localhost:8080/",
     "height": 377
    },
    "executionInfo": {
     "elapsed": 12,
     "status": "ok",
     "timestamp": 1665217175476,
     "user": {
      "displayName": "Michael Gd",
      "userId": "11180041065344820766"
     },
     "user_tz": -180
    },
    "id": "EkKJrYeFsl9T",
    "outputId": "93ef8650-8371-47bc-a5d7-d93abe29984d"
   },
   "outputs": [
    {
     "data": {
      "image/png": "[encoded data removed]",
      "text/plain": [
       "<Figure size 1000x600 with 1 Axes>"
      ]
     },
     "metadata": {},
     "output_type": "display_data"
    }
   ],
   "source": [
    "plt.imshow(image_gen.random_transform(para_cell));"
   ]
  },
  {
   "cell_type": "markdown",
   "metadata": {
    "id": "NXTR3CIv0qm1"
   },
   "source": [
    "### Taking the path to a directory & Generating batches of augmented data\n",
    "\n",
    "flow_from_directory function works with images organized in sub-directories. Your directories should include only one class of images, so one folder per class of images."
   ]
  },
  {
   "cell_type": "code",
   "execution_count": 51,
   "metadata": {
    "executionInfo": {
     "elapsed": 10,
     "status": "ok",
     "timestamp": 1665217175477,
     "user": {
      "displayName": "Michael Gd",
      "userId": "11180041065344820766"
     },
     "user_tz": -180
    },
    "id": "7_KXVvrtsl9U"
   },
   "outputs": [],
   "source": [
    "# help(image_gen.flow_from_directory)\n",
    "# Takes the path to a directory & generates batches of augmented data."
   ]
  },
  {
   "cell_type": "code",
   "execution_count": 52,
   "metadata": {
    "colab": {
     "base_uri": "https://localhost:8080/"
    },
    "executionInfo": {
     "elapsed": 405,
     "status": "ok",
     "timestamp": 1665217175873,
     "user": {
      "displayName": "Michael Gd",
      "userId": "11180041065344820766"
     },
     "user_tz": -180
    },
    "id": "gg7R9FNEsl9U",
    "outputId": "428ec3ea-af94-43a0-f897-ecdadcd374c0"
   },
   "outputs": [
    {
     "name": "stdout",
     "output_type": "stream",
     "text": [
      "Found 24958 images belonging to 2 classes.\n"
     ]
    },
    {
     "data": {
      "text/plain": [
       "<keras.preprocessing.image.DirectoryIterator at 0x7fb6018327a0>"
      ]
     },
     "execution_count": 52,
     "metadata": {},
     "output_type": "execute_result"
    }
   ],
   "source": [
    "image_gen.flow_from_directory(train_path)"
   ]
  },
  {
   "cell_type": "code",
   "execution_count": 53,
   "metadata": {
    "colab": {
     "base_uri": "https://localhost:8080/"
    },
    "executionInfo": {
     "elapsed": 275,
     "status": "ok",
     "timestamp": 1665217176146,
     "user": {
      "displayName": "Michael Gd",
      "userId": "11180041065344820766"
     },
     "user_tz": -180
    },
    "id": "lDqfD0mUsl9U",
    "outputId": "84773da2-725e-492e-9948-cb63ac0b2641"
   },
   "outputs": [
    {
     "name": "stdout",
     "output_type": "stream",
     "text": [
      "Found 2600 images belonging to 2 classes.\n"
     ]
    },
    {
     "data": {
      "text/plain": [
       "<keras.preprocessing.image.DirectoryIterator at 0x7fb601847a90>"
      ]
     },
     "execution_count": 53,
     "metadata": {},
     "output_type": "execute_result"
    }
   ],
   "source": [
    "val_image_gen.flow_from_directory(test_path)"
   ]
  },
  {
   "cell_type": "code",
   "execution_count": 54,
   "metadata": {
    "executionInfo": {
     "elapsed": 6,
     "status": "ok",
     "timestamp": 1665217176146,
     "user": {
      "displayName": "Michael Gd",
      "userId": "11180041065344820766"
     },
     "user_tz": -180
    },
    "id": "uh3j7j6_00ch"
   },
   "outputs": [],
   "source": [
    "batch_size = 32"
   ]
  },
  {
   "cell_type": "code",
   "execution_count": 55,
   "metadata": {
    "colab": {
     "base_uri": "https://localhost:8080/"
    },
    "executionInfo": {
     "elapsed": 7,
     "status": "ok",
     "timestamp": 1665217176147,
     "user": {
      "displayName": "Michael Gd",
      "userId": "11180041065344820766"
     },
     "user_tz": -180
    },
    "id": "c8ELVwKrM0jy",
    "outputId": "533659cf-6714-45a2-9216-99150e035880"
   },
   "outputs": [
    {
     "data": {
      "text/plain": [
       "(130, 130, 3)"
      ]
     },
     "execution_count": 55,
     "metadata": {},
     "output_type": "execute_result"
    }
   ],
   "source": [
    "image_shape"
   ]
  },
  {
   "cell_type": "code",
   "execution_count": 56,
   "metadata": {
    "colab": {
     "base_uri": "https://localhost:8080/"
    },
    "executionInfo": {
     "elapsed": 868,
     "status": "ok",
     "timestamp": 1665217177012,
     "user": {
      "displayName": "Michael Gd",
      "userId": "11180041065344820766"
     },
     "user_tz": -180
    },
    "id": "gV4T5jcwsl9U",
    "outputId": "4bf329d5-0f62-466d-bc40-ec6038583c0d"
   },
   "outputs": [
    {
     "name": "stdout",
     "output_type": "stream",
     "text": [
      "Found 24958 images belonging to 2 classes.\n"
     ]
    }
   ],
   "source": [
    "train_image_gen = image_gen.flow_from_directory(directory=train_path,\n",
    "                                                target_size=image_shape[:2],\n",
    "                                                color_mode='rgb',\n",
    "                                                batch_size=batch_size,\n",
    "                                                class_mode='binary',\n",
    "                                                shuffle=True)"
   ]
  },
  {
   "cell_type": "code",
   "execution_count": 57,
   "metadata": {
    "colab": {
     "base_uri": "https://localhost:8080/"
    },
    "executionInfo": {
     "elapsed": 16,
     "status": "ok",
     "timestamp": 1665217177012,
     "user": {
      "displayName": "Michael Gd",
      "userId": "11180041065344820766"
     },
     "user_tz": -180
    },
    "id": "KbbqrT2Asl9U",
    "outputId": "3a36acaa-3913-4b21-cbda-de7fbb9b235b"
   },
   "outputs": [
    {
     "name": "stdout",
     "output_type": "stream",
     "text": [
      "Found 2600 images belonging to 2 classes.\n"
     ]
    }
   ],
   "source": [
    "test_image_gen = val_image_gen.flow_from_directory(directory=test_path,\n",
    "                                                   target_size=image_shape[:2],\n",
    "                                                   color_mode='rgb',\n",
    "                                                   batch_size=batch_size,\n",
    "                                                   class_mode='binary',\n",
    "                                                   shuffle=False)"
   ]
  },
  {
   "cell_type": "code",
   "execution_count": 58,
   "metadata": {
    "colab": {
     "base_uri": "https://localhost:8080/"
    },
    "executionInfo": {
     "elapsed": 12,
     "status": "ok",
     "timestamp": 1665217177013,
     "user": {
      "displayName": "Michael Gd",
      "userId": "11180041065344820766"
     },
     "user_tz": -180
    },
    "id": "efxzYhpisl9V",
    "outputId": "8541e37d-2356-42e3-ff0f-379ff990cc1f"
   },
   "outputs": [
    {
     "data": {
      "text/plain": [
       "{'parasitized': 0, 'uninfected': 1}"
      ]
     },
     "execution_count": 58,
     "metadata": {},
     "output_type": "execute_result"
    }
   ],
   "source": [
    "train_image_gen.class_indices"
   ]
  },
  {
   "cell_type": "code",
   "execution_count": 59,
   "metadata": {
    "colab": {
     "base_uri": "https://localhost:8080/"
    },
    "executionInfo": {
     "elapsed": 7,
     "status": "ok",
     "timestamp": 1665217177013,
     "user": {
      "displayName": "Michael Gd",
      "userId": "11180041065344820766"
     },
     "user_tz": -180
    },
    "id": "eE82-YIQUHtE",
    "outputId": "c4f1cf9b-e14c-4d74-bcf0-6075c91497b9"
   },
   "outputs": [
    {
     "data": {
      "text/plain": [
       "{'parasitized': 0, 'uninfected': 1}"
      ]
     },
     "execution_count": 59,
     "metadata": {},
     "output_type": "execute_result"
    }
   ],
   "source": [
    "test_image_gen.class_indices"
   ]
  },
  {
   "cell_type": "code",
   "execution_count": 60,
   "metadata": {},
   "outputs": [
    {
     "data": {
      "text/plain": [
       "<keras.preprocessing.image.DirectoryIterator at 0x7fb601844730>"
      ]
     },
     "execution_count": 60,
     "metadata": {},
     "output_type": "execute_result"
    }
   ],
   "source": [
    "train_image_gen"
   ]
  },
  {
   "cell_type": "code",
   "execution_count": 61,
   "metadata": {
    "colab": {
     "base_uri": "https://localhost:8080/"
    },
    "executionInfo": {
     "elapsed": 12,
     "status": "ok",
     "timestamp": 1665217177512,
     "user": {
      "displayName": "Michael Gd",
      "userId": "11180041065344820766"
     },
     "user_tz": -180
    },
    "id": "g_tNsaxlsl9V",
    "outputId": "3d19e648-cf95-45df-ca02-a8f1c0436852"
   },
   "outputs": [
    {
     "data": {
      "text/plain": [
       "(32, 130, 130, 3)"
      ]
     },
     "execution_count": 61,
     "metadata": {},
     "output_type": "execute_result"
    }
   ],
   "source": [
    "train_image_gen[0][0].shape"
   ]
  },
  {
   "cell_type": "code",
   "execution_count": 62,
   "metadata": {
    "colab": {
     "base_uri": "https://localhost:8080/"
    },
    "executionInfo": {
     "elapsed": 297,
     "status": "ok",
     "timestamp": 1665217177805,
     "user": {
      "displayName": "Michael Gd",
      "userId": "11180041065344820766"
     },
     "user_tz": -180
    },
    "id": "w08Vuz9y88iG",
    "outputId": "dfb08abf-1e1e-40ec-ee33-e2327f485677"
   },
   "outputs": [
    {
     "data": {
      "text/plain": [
       "(130, 130, 3)"
      ]
     },
     "execution_count": 62,
     "metadata": {},
     "output_type": "execute_result"
    }
   ],
   "source": [
    "train_image_gen[0][0][0].shape"
   ]
  },
  {
   "cell_type": "code",
   "execution_count": 63,
   "metadata": {
    "colab": {
     "base_uri": "https://localhost:8080/"
    },
    "executionInfo": {
     "elapsed": 21,
     "status": "ok",
     "timestamp": 1665217177806,
     "user": {
      "displayName": "Michael Gd",
      "userId": "11180041065344820766"
     },
     "user_tz": -180
    },
    "id": "kBX9wMYasl9V",
    "outputId": "4470674b-f2db-4706-96e3-b5eb6de0f041"
   },
   "outputs": [
    {
     "data": {
      "text/plain": [
       "(780, 82)"
      ]
     },
     "execution_count": 63,
     "metadata": {},
     "output_type": "execute_result"
    }
   ],
   "source": [
    "len(train_image_gen), len(test_image_gen)"
   ]
  },
  {
   "cell_type": "code",
   "execution_count": 64,
   "metadata": {
    "colab": {
     "base_uri": "https://localhost:8080/"
    },
    "executionInfo": {
     "elapsed": 17,
     "status": "ok",
     "timestamp": 1665217177807,
     "user": {
      "displayName": "Michael Gd",
      "userId": "11180041065344820766"
     },
     "user_tz": -180
    },
    "id": "aS4Gj8PGsl9V",
    "outputId": "7a4d69ce-a363-4faf-f29a-8b224ef13b00"
   },
   "outputs": [
    {
     "data": {
      "text/plain": [
       "(24960, 2624)"
      ]
     },
     "execution_count": 64,
     "metadata": {},
     "output_type": "execute_result"
    }
   ],
   "source": [
    "len(train_image_gen) * batch_size, len(test_image_gen) * batch_size"
   ]
  },
  {
   "cell_type": "code",
   "execution_count": 65,
   "metadata": {
    "colab": {
     "base_uri": "https://localhost:8080/"
    },
    "executionInfo": {
     "elapsed": 14,
     "status": "ok",
     "timestamp": 1665217177808,
     "user": {
      "displayName": "Michael Gd",
      "userId": "11180041065344820766"
     },
     "user_tz": -180
    },
    "id": "ZkqN1GrZ8QSs",
    "outputId": "7602286b-f824-4d9b-8914-1d8ed20fb0dc"
   },
   "outputs": [
    {
     "data": {
      "text/plain": [
       "(32, 32)"
      ]
     },
     "execution_count": 65,
     "metadata": {},
     "output_type": "execute_result"
    }
   ],
   "source": [
    "# Get a sample of the training data batch\n",
    "images, labels = train_image_gen.next()  # get the 'next' batch of images/labels\n",
    "len(images), len(labels)"
   ]
  },
  {
   "cell_type": "code",
   "execution_count": 66,
   "metadata": {
    "colab": {
     "base_uri": "https://localhost:8080/"
    },
    "executionInfo": {
     "elapsed": 11,
     "status": "ok",
     "timestamp": 1665217177809,
     "user": {
      "displayName": "Michael Gd",
      "userId": "11180041065344820766"
     },
     "user_tz": -180
    },
    "id": "7UDSmH8F8aBH",
    "outputId": "cb9aabb1-79dd-4ee3-b86f-6796feac5a46"
   },
   "outputs": [
    {
     "data": {
      "text/plain": [
       "(32, 32)"
      ]
     },
     "execution_count": 66,
     "metadata": {},
     "output_type": "execute_result"
    }
   ],
   "source": [
    "# Get a sample of the testing data batch\n",
    "images, labels = test_image_gen.next()  # get the 'next' batch of images/labels\n",
    "len(images), len(labels)"
   ]
  },
  {
   "cell_type": "markdown",
   "metadata": {
    "id": "McnEpbpKsl9W"
   },
   "source": [
    "# Modelling-1"
   ]
  },
  {
   "cell_type": "code",
   "execution_count": 69,
   "metadata": {
    "executionInfo": {
     "elapsed": 8,
     "status": "ok",
     "timestamp": 1665217177809,
     "user": {
      "displayName": "Michael Gd",
      "userId": "11180041065344820766"
     },
     "user_tz": -180
    },
    "id": "_4wdkY_Csl9W"
   },
   "outputs": [],
   "source": [
    "from tensorflow.keras.models import Sequential\n",
    "from tensorflow.keras.layers import Activation, Dropout, Flatten, Dense, Conv2D, MaxPooling2D\n",
    "from tensorflow.keras.callbacks import EarlyStopping"
   ]
  },
  {
   "cell_type": "code",
   "execution_count": 70,
   "metadata": {
    "executionInfo": {
     "elapsed": 2945,
     "status": "ok",
     "timestamp": 1665217180747,
     "user": {
      "displayName": "Michael Gd",
      "userId": "11180041065344820766"
     },
     "user_tz": -180
    },
    "id": "CQzvmjcEsl9W"
   },
   "outputs": [
    {
     "name": "stderr",
     "output_type": "stream",
     "text": [
      "2023-01-12 20:43:58.440366: I tensorflow/core/platform/cpu_feature_guard.cc:193] This TensorFlow binary is optimized with oneAPI Deep Neural Network Library (oneDNN) to use the following CPU instructions in performance-critical operations:  SSE4.1 SSE4.2 AVX AVX2 AVX512F AVX512_VNNI FMA\n",
      "To enable them in other operations, rebuild TensorFlow with the appropriate compiler flags.\n",
      "2023-01-12 20:43:58.441449: I tensorflow/stream_executor/cuda/cuda_gpu_executor.cc:980] successful NUMA node read from SysFS had negative value (-1), but there must be at least one NUMA node, so returning NUMA node zero\n",
      "2023-01-12 20:43:58.441702: I tensorflow/stream_executor/cuda/cuda_gpu_executor.cc:980] successful NUMA node read from SysFS had negative value (-1), but there must be at least one NUMA node, so returning NUMA node zero\n",
      "2023-01-12 20:43:58.441786: I tensorflow/stream_executor/cuda/cuda_gpu_executor.cc:980] successful NUMA node read from SysFS had negative value (-1), but there must be at least one NUMA node, so returning NUMA node zero\n",
      "2023-01-12 20:43:58.752634: I tensorflow/stream_executor/cuda/cuda_gpu_executor.cc:980] successful NUMA node read from SysFS had negative value (-1), but there must be at least one NUMA node, so returning NUMA node zero\n",
      "2023-01-12 20:43:58.752791: I tensorflow/stream_executor/cuda/cuda_gpu_executor.cc:980] successful NUMA node read from SysFS had negative value (-1), but there must be at least one NUMA node, so returning NUMA node zero\n",
      "2023-01-12 20:43:58.752873: I tensorflow/stream_executor/cuda/cuda_gpu_executor.cc:980] successful NUMA node read from SysFS had negative value (-1), but there must be at least one NUMA node, so returning NUMA node zero\n",
      "2023-01-12 20:43:58.752936: I tensorflow/core/common_runtime/gpu/gpu_device.cc:1616] Created device /job:localhost/replica:0/task:0/device:GPU:0 with 20930 MB memory:  -> device: 0, name: NVIDIA GeForce RTX 3090, pci bus id: 0000:02:00.0, compute capability: 8.6\n"
     ]
    }
   ],
   "source": [
    "model1 = Sequential()\n",
    "\n",
    "model1.add(Conv2D(filters=32, kernel_size=(3, 3), input_shape=image_shape, activation='relu'))\n",
    "model1.add(MaxPooling2D(pool_size=(2, 2)))\n",
    "\n",
    "model1.add(Conv2D(filters=64, kernel_size=(3, 3), activation='relu'))\n",
    "model1.add(MaxPooling2D(pool_size=(2, 2)))\n",
    "\n",
    "model1.add(Conv2D(filters=64, kernel_size=(3, 3), activation='relu'))\n",
    "model1.add(MaxPooling2D(pool_size=(2, 2)))\n",
    "\n",
    "\n",
    "model1.add(Flatten())\n",
    "\n",
    "\n",
    "model1.add(Dense(128))\n",
    "model1.add(Activation('relu'))\n",
    "\n",
    "model1.add(Dropout(0.5))\n",
    "\n",
    "model1.add(Dense(1))\n",
    "model1.add(Activation('sigmoid'))\n",
    "\n",
    "# optimizer = keras.optimizers.Adam(lr=0.01)\n",
    "model1.compile(loss='binary_crossentropy',\n",
    "               optimizer='adam',\n",
    "               metrics=['accuracy'])"
   ]
  },
  {
   "cell_type": "code",
   "execution_count": 71,
   "metadata": {
    "colab": {
     "base_uri": "https://localhost:8080/"
    },
    "executionInfo": {
     "elapsed": 18,
     "status": "ok",
     "timestamp": 1665217180747,
     "user": {
      "displayName": "Michael Gd",
      "userId": "11180041065344820766"
     },
     "user_tz": -180
    },
    "id": "MHI3EEvXsl9W",
    "outputId": "84a14182-fec1-49e6-9a3a-70b74967cc00"
   },
   "outputs": [
    {
     "name": "stdout",
     "output_type": "stream",
     "text": [
      "Model: \"sequential\"\n",
      "_________________________________________________________________\n",
      " Layer (type)                Output Shape              Param #   \n",
      "=================================================================\n",
      " conv2d (Conv2D)             (None, 128, 128, 32)      896       \n",
      "                                                                 \n",
      " max_pooling2d (MaxPooling2D  (None, 64, 64, 32)       0         \n",
      " )                                                               \n",
      "                                                                 \n",
      " conv2d_1 (Conv2D)           (None, 62, 62, 64)        18496     \n",
      "                                                                 \n",
      " max_pooling2d_1 (MaxPooling  (None, 31, 31, 64)       0         \n",
      " 2D)                                                             \n",
      "                                                                 \n",
      " conv2d_2 (Conv2D)           (None, 29, 29, 64)        36928     \n",
      "                                                                 \n",
      " max_pooling2d_2 (MaxPooling  (None, 14, 14, 64)       0         \n",
      " 2D)                                                             \n",
      "                                                                 \n",
      " flatten (Flatten)           (None, 12544)             0         \n",
      "                                                                 \n",
      " dense (Dense)               (None, 128)               1605760   \n",
      "                                                                 \n",
      " activation (Activation)     (None, 128)               0         \n",
      "                                                                 \n",
      " dropout (Dropout)           (None, 128)               0         \n",
      "                                                                 \n",
      " dense_1 (Dense)             (None, 1)                 129       \n",
      "                                                                 \n",
      " activation_1 (Activation)   (None, 1)                 0         \n",
      "                                                                 \n",
      "=================================================================\n",
      "Total params: 1,662,209\n",
      "Trainable params: 1,662,209\n",
      "Non-trainable params: 0\n",
      "_________________________________________________________________\n"
     ]
    }
   ],
   "source": [
    "model1.summary()"
   ]
  },
  {
   "cell_type": "code",
   "execution_count": 72,
   "metadata": {
    "executionInfo": {
     "elapsed": 6,
     "status": "ok",
     "timestamp": 1665217180748,
     "user": {
      "displayName": "Michael Gd",
      "userId": "11180041065344820766"
     },
     "user_tz": -180
    },
    "id": "MQEe7W01sl9W"
   },
   "outputs": [],
   "source": [
    "early_stop = EarlyStopping(monitor='val_loss', patience=2, restore_best_weights=True)"
   ]
  },
  {
   "cell_type": "code",
   "execution_count": 73,
   "metadata": {
    "colab": {
     "base_uri": "https://localhost:8080/"
    },
    "executionInfo": {
     "elapsed": 1203360,
     "status": "ok",
     "timestamp": 1665218384102,
     "user": {
      "displayName": "Michael Gd",
      "userId": "11180041065344820766"
     },
     "user_tz": -180
    },
    "id": "ptJFzuyvsl9X",
    "outputId": "0b0c452a-10ca-42d1-bd84-107f2b51c1fa",
    "scrolled": true
   },
   "outputs": [
    {
     "name": "stdout",
     "output_type": "stream",
     "text": [
      "Epoch 1/10\n"
     ]
    },
    {
     "name": "stderr",
     "output_type": "stream",
     "text": [
      "2023-01-12 20:44:09.783794: I tensorflow/stream_executor/cuda/cuda_dnn.cc:384] Loaded cuDNN version 8401\n",
      "2023-01-12 20:44:10.483488: I tensorflow/core/platform/default/subprocess.cc:304] Start cannot spawn child process: No such file or directory\n",
      "2023-01-12 20:44:10.483888: I tensorflow/core/platform/default/subprocess.cc:304] Start cannot spawn child process: No such file or directory\n",
      "2023-01-12 20:44:10.483900: W tensorflow/stream_executor/gpu/asm_compiler.cc:80] Couldn't get ptxas version string: INTERNAL: Couldn't invoke ptxas --version\n",
      "2023-01-12 20:44:10.484404: I tensorflow/core/platform/default/subprocess.cc:304] Start cannot spawn child process: No such file or directory\n",
      "2023-01-12 20:44:10.484434: W tensorflow/stream_executor/gpu/redzone_allocator.cc:314] INTERNAL: Failed to launch ptxas\n",
      "Relying on driver to perform ptx compilation. \n",
      "Modify $PATH to customize ptxas location.\n",
      "This message will be only logged once.\n",
      "2023-01-12 20:44:10.537551: I tensorflow/stream_executor/cuda/cuda_blas.cc:1614] TensorFloat-32 will be used for the matrix multiplication. This will only be logged once.\n"
     ]
    },
    {
     "name": "stdout",
     "output_type": "stream",
     "text": [
      "780/780 [==============================] - 55s 67ms/step - loss: 0.9733 - accuracy: 0.5646 - val_loss: 0.6650 - val_accuracy: 0.6092\n",
      "Epoch 2/10\n",
      "780/780 [==============================] - 51s 66ms/step - loss: 0.6721 - accuracy: 0.5907 - val_loss: 0.6701 - val_accuracy: 0.5869\n",
      "Epoch 3/10\n",
      "780/780 [==============================] - 51s 65ms/step - loss: 0.6672 - accuracy: 0.5996 - val_loss: 0.6625 - val_accuracy: 0.6135\n",
      "Epoch 4/10\n",
      "780/780 [==============================] - 51s 65ms/step - loss: 0.6653 - accuracy: 0.6047 - val_loss: 0.6757 - val_accuracy: 0.5988\n",
      "Epoch 5/10\n",
      "780/780 [==============================] - 51s 66ms/step - loss: 0.4424 - accuracy: 0.7897 - val_loss: 0.2193 - val_accuracy: 0.9338\n",
      "Epoch 6/10\n",
      "780/780 [==============================] - 51s 65ms/step - loss: 0.2335 - accuracy: 0.9232 - val_loss: 0.1863 - val_accuracy: 0.9423\n",
      "Epoch 7/10\n",
      "780/780 [==============================] - 51s 66ms/step - loss: 0.2028 - accuracy: 0.9364 - val_loss: 0.1976 - val_accuracy: 0.9408\n",
      "Epoch 8/10\n",
      "780/780 [==============================] - 51s 66ms/step - loss: 0.1907 - accuracy: 0.9405 - val_loss: 0.1609 - val_accuracy: 0.9423\n",
      "Epoch 9/10\n",
      "780/780 [==============================] - 53s 67ms/step - loss: 0.1815 - accuracy: 0.9447 - val_loss: 0.1713 - val_accuracy: 0.9454\n",
      "Epoch 10/10\n",
      "780/780 [==============================] - 52s 66ms/step - loss: 0.1730 - accuracy: 0.9461 - val_loss: 0.1563 - val_accuracy: 0.9492\n"
     ]
    },
    {
     "data": {
      "text/plain": [
       "<keras.callbacks.History at 0x7fb610468a60>"
      ]
     },
     "execution_count": 73,
     "metadata": {},
     "output_type": "execute_result"
    }
   ],
   "source": [
    "model1.fit(train_image_gen,\n",
    "           epochs=10,\n",
    "           steps_per_epoch=len(train_image_gen),\n",
    "           validation_data=test_image_gen,\n",
    "           validation_steps=len(test_image_gen),\n",
    "           callbacks=[early_stop])"
   ]
  },
  {
   "cell_type": "code",
   "execution_count": 74,
   "metadata": {
    "colab": {
     "base_uri": "https://localhost:8080/"
    },
    "executionInfo": {
     "elapsed": 8,
     "status": "ok",
     "timestamp": 1665218384102,
     "user": {
      "displayName": "Michael Gd",
      "userId": "11180041065344820766"
     },
     "user_tz": -180
    },
    "id": "yUXSEkDLsl9X",
    "outputId": "f40ff535-d1ca-48a0-853d-7d4e31b84c6a"
   },
   "outputs": [
    {
     "data": {
      "text/plain": [
       "['loss', 'accuracy']"
      ]
     },
     "execution_count": 74,
     "metadata": {},
     "output_type": "execute_result"
    }
   ],
   "source": [
    "model1.metrics_names"
   ]
  },
  {
   "cell_type": "code",
   "execution_count": 75,
   "metadata": {
    "colab": {
     "base_uri": "https://localhost:8080/",
     "height": 206
    },
    "executionInfo": {
     "elapsed": 22612,
     "status": "ok",
     "timestamp": 1665218406710,
     "user": {
      "displayName": "Michael Gd",
      "userId": "11180041065344820766"
     },
     "user_tz": -180
    },
    "id": "AIykzWBQsl9X",
    "outputId": "f3beacc6-12ad-451f-9562-ddcd08623031"
   },
   "outputs": [
    {
     "data": {
      "text/html": [
       "<div>\n",
       "<style scoped>\n",
       "    .dataframe tbody tr th:only-of-type {\n",
       "        vertical-align: middle;\n",
       "    }\n",
       "\n",
       "    .dataframe tbody tr th {\n",
       "        vertical-align: top;\n",
       "    }\n",
       "\n",
       "    .dataframe thead th {\n",
       "        text-align: right;\n",
       "    }\n",
       "</style>\n",
       "<table border=\"1\" class=\"dataframe\">\n",
       "  <thead>\n",
       "    <tr style=\"text-align: right;\">\n",
       "      <th></th>\n",
       "      <th>loss</th>\n",
       "      <th>accuracy</th>\n",
       "      <th>val_loss</th>\n",
       "      <th>val_accuracy</th>\n",
       "    </tr>\n",
       "  </thead>\n",
       "  <tbody>\n",
       "    <tr>\n",
       "      <th>0</th>\n",
       "      <td>0.973</td>\n",
       "      <td>0.565</td>\n",
       "      <td>0.665</td>\n",
       "      <td>0.609</td>\n",
       "    </tr>\n",
       "    <tr>\n",
       "      <th>1</th>\n",
       "      <td>0.672</td>\n",
       "      <td>0.591</td>\n",
       "      <td>0.670</td>\n",
       "      <td>0.587</td>\n",
       "    </tr>\n",
       "    <tr>\n",
       "      <th>2</th>\n",
       "      <td>0.667</td>\n",
       "      <td>0.600</td>\n",
       "      <td>0.663</td>\n",
       "      <td>0.613</td>\n",
       "    </tr>\n",
       "    <tr>\n",
       "      <th>3</th>\n",
       "      <td>0.665</td>\n",
       "      <td>0.605</td>\n",
       "      <td>0.676</td>\n",
       "      <td>0.599</td>\n",
       "    </tr>\n",
       "    <tr>\n",
       "      <th>4</th>\n",
       "      <td>0.442</td>\n",
       "      <td>0.790</td>\n",
       "      <td>0.219</td>\n",
       "      <td>0.934</td>\n",
       "    </tr>\n",
       "  </tbody>\n",
       "</table>\n",
       "</div>"
      ],
      "text/plain": [
       "   loss  accuracy  val_loss  val_accuracy\n",
       "0 0.973     0.565     0.665         0.609\n",
       "1 0.672     0.591     0.670         0.587\n",
       "2 0.667     0.600     0.663         0.613\n",
       "3 0.665     0.605     0.676         0.599\n",
       "4 0.442     0.790     0.219         0.934"
      ]
     },
     "execution_count": 75,
     "metadata": {},
     "output_type": "execute_result"
    }
   ],
   "source": [
    "summary = pd.DataFrame(model1.history.history)\n",
    "summary.head()"
   ]
  },
  {
   "cell_type": "code",
   "execution_count": 76,
   "metadata": {
    "colab": {
     "base_uri": "https://localhost:8080/",
     "height": 374
    },
    "executionInfo": {
     "elapsed": 10,
     "status": "ok",
     "timestamp": 1665218406711,
     "user": {
      "displayName": "Michael Gd",
      "userId": "11180041065344820766"
     },
     "user_tz": -180
    },
    "id": "Dcy3L5Whsl9X",
    "outputId": "10dfa950-c48c-4449-d6da-b5e4b0d079fe"
   },
   "outputs": [
    {
     "data": {
      "image/png": "[encoded data removed]",
      "text/plain": [
       "<Figure size 1000x600 with 1 Axes>"
      ]
     },
     "metadata": {},
     "output_type": "display_data"
    }
   ],
   "source": [
    "summary[[\"loss\", \"val_loss\"]].plot();"
   ]
  },
  {
   "cell_type": "code",
   "execution_count": 77,
   "metadata": {
    "colab": {
     "base_uri": "https://localhost:8080/",
     "height": 374
    },
    "executionInfo": {
     "elapsed": 595,
     "status": "ok",
     "timestamp": 1665218407300,
     "user": {
      "displayName": "Michael Gd",
      "userId": "11180041065344820766"
     },
     "user_tz": -180
    },
    "id": "azs1F4o7sl9X",
    "outputId": "e5a5da12-8f47-4942-c582-3cdeecb9284a"
   },
   "outputs": [
    {
     "data": {
      "image/png": "[encoded data removed]",
      "text/plain": [
       "<Figure size 1000x600 with 1 Axes>"
      ]
     },
     "metadata": {},
     "output_type": "display_data"
    }
   ],
   "source": [
    "summary[[\"accuracy\", \"val_accuracy\"]].plot();"
   ]
  },
  {
   "cell_type": "markdown",
   "metadata": {
    "id": "16_yfUk5sl9Y"
   },
   "source": [
    "# Evaluation on Test Data"
   ]
  },
  {
   "cell_type": "code",
   "execution_count": 78,
   "metadata": {
    "executionInfo": {
     "elapsed": 382,
     "status": "ok",
     "timestamp": 1665218407676,
     "user": {
      "displayName": "Michael Gd",
      "userId": "11180041065344820766"
     },
     "user_tz": -180
    },
    "id": "Xz95GVTDsl9Y"
   },
   "outputs": [],
   "source": [
    "from sklearn.metrics import classification_report, confusion_matrix"
   ]
  },
  {
   "cell_type": "code",
   "execution_count": 79,
   "metadata": {
    "colab": {
     "base_uri": "https://localhost:8080/"
    },
    "executionInfo": {
     "elapsed": 10746,
     "status": "ok",
     "timestamp": 1665218418415,
     "user": {
      "displayName": "Michael Gd",
      "userId": "11180041065344820766"
     },
     "user_tz": -180
    },
    "id": "mSBs8sNAsl9Y",
    "outputId": "ac10cb56-ced6-4966-b4d1-cd5aaa65ed39"
   },
   "outputs": [
    {
     "name": "stdout",
     "output_type": "stream",
     "text": [
      "82/82 [==============================] - 1s 15ms/step - loss: 0.1563 - accuracy: 0.9492\n",
      "Test loss: 0.15629732608795166\n",
      "Test accuracy: 0.9492307901382446\n"
     ]
    }
   ],
   "source": [
    "score = model1.evaluate(test_image_gen)\n",
    "print('Test loss:', score[0])\n",
    "print('Test accuracy:', score[1])"
   ]
  },
  {
   "cell_type": "code",
   "execution_count": 80,
   "metadata": {
    "executionInfo": {
     "elapsed": 10532,
     "status": "ok",
     "timestamp": 1665218428937,
     "user": {
      "displayName": "Michael Gd",
      "userId": "11180041065344820766"
     },
     "user_tz": -180
    },
    "id": "ZtAfDORssl9Y"
   },
   "outputs": [
    {
     "name": "stdout",
     "output_type": "stream",
     "text": [
      "82/82 [==============================] - 1s 15ms/step\n"
     ]
    }
   ],
   "source": [
    "pred_prob = model1.predict(test_image_gen)"
   ]
  },
  {
   "cell_type": "code",
   "execution_count": 81,
   "metadata": {
    "colab": {
     "base_uri": "https://localhost:8080/"
    },
    "executionInfo": {
     "elapsed": 33,
     "status": "ok",
     "timestamp": 1665218428938,
     "user": {
      "displayName": "Michael Gd",
      "userId": "11180041065344820766"
     },
     "user_tz": -180
    },
    "id": "5PfBiFPlsl9Y",
    "outputId": "98c195de-26be-4742-9ef6-185d3aa525f0"
   },
   "outputs": [
    {
     "data": {
      "text/plain": [
       "array([[1.0264536e-03],\n",
       "       [1.9628811e-05],\n",
       "       [2.6975165e-06],\n",
       "       ...,\n",
       "       [9.9575907e-01],\n",
       "       [9.8431128e-01],\n",
       "       [9.9007380e-01]], dtype=float32)"
      ]
     },
     "execution_count": 81,
     "metadata": {},
     "output_type": "execute_result"
    }
   ],
   "source": [
    "pred_prob"
   ]
  },
  {
   "cell_type": "code",
   "execution_count": 82,
   "metadata": {
    "executionInfo": {
     "elapsed": 31,
     "status": "ok",
     "timestamp": 1665218428939,
     "user": {
      "displayName": "Michael Gd",
      "userId": "11180041065344820766"
     },
     "user_tz": -180
    },
    "id": "qwF2D32fsl9Z"
   },
   "outputs": [],
   "source": [
    "y_pred = pred_prob > 0.5"
   ]
  },
  {
   "cell_type": "code",
   "execution_count": 83,
   "metadata": {
    "colab": {
     "base_uri": "https://localhost:8080/"
    },
    "executionInfo": {
     "elapsed": 33,
     "status": "ok",
     "timestamp": 1665218428941,
     "user": {
      "displayName": "Michael Gd",
      "userId": "11180041065344820766"
     },
     "user_tz": -180
    },
    "id": "EP0FHhTSsl9Z",
    "outputId": "f98aec77-45f9-4825-8f84-33729fdae322"
   },
   "outputs": [
    {
     "data": {
      "text/plain": [
       "array([[False],\n",
       "       [False],\n",
       "       [False],\n",
       "       ...,\n",
       "       [ True],\n",
       "       [ True],\n",
       "       [ True]])"
      ]
     },
     "execution_count": 83,
     "metadata": {},
     "output_type": "execute_result"
    }
   ],
   "source": [
    "y_pred"
   ]
  },
  {
   "cell_type": "code",
   "execution_count": 84,
   "metadata": {
    "colab": {
     "base_uri": "https://localhost:8080/"
    },
    "executionInfo": {
     "elapsed": 30,
     "status": "ok",
     "timestamp": 1665218428942,
     "user": {
      "displayName": "Michael Gd",
      "userId": "11180041065344820766"
     },
     "user_tz": -180
    },
    "id": "BfPUSYHxsl9a",
    "outputId": "6b5b3ad1-1b8c-4d5d-cc97-54979a93feb8"
   },
   "outputs": [
    {
     "data": {
      "text/plain": [
       "array([0, 0, 0, ..., 1, 1, 1], dtype=int32)"
      ]
     },
     "execution_count": 84,
     "metadata": {},
     "output_type": "execute_result"
    }
   ],
   "source": [
    "y_test = test_image_gen.classes\n",
    "y_test"
   ]
  },
  {
   "cell_type": "code",
   "execution_count": 85,
   "metadata": {
    "colab": {
     "base_uri": "https://localhost:8080/"
    },
    "executionInfo": {
     "elapsed": 27,
     "status": "ok",
     "timestamp": 1665218428943,
     "user": {
      "displayName": "Michael Gd",
      "userId": "11180041065344820766"
     },
     "user_tz": -180
    },
    "id": "DWwI79g1sl9a",
    "outputId": "b1464a2d-1e54-437e-f79d-b32fd4881e57"
   },
   "outputs": [
    {
     "name": "stdout",
     "output_type": "stream",
     "text": [
      "              precision    recall  f1-score   support\n",
      "\n",
      "           0       0.96      0.94      0.95      1300\n",
      "           1       0.94      0.96      0.95      1300\n",
      "\n",
      "    accuracy                           0.95      2600\n",
      "   macro avg       0.95      0.95      0.95      2600\n",
      "weighted avg       0.95      0.95      0.95      2600\n",
      "\n"
     ]
    }
   ],
   "source": [
    "print(classification_report(y_test, y_pred))"
   ]
  },
  {
   "cell_type": "code",
   "execution_count": 86,
   "metadata": {
    "colab": {
     "base_uri": "https://localhost:8080/"
    },
    "executionInfo": {
     "elapsed": 25,
     "status": "ok",
     "timestamp": 1665218428944,
     "user": {
      "displayName": "Michael Gd",
      "userId": "11180041065344820766"
     },
     "user_tz": -180
    },
    "id": "KlUFu_UHsl9b",
    "outputId": "43d539e6-abe3-4ff9-8324-9ff417e5d647",
    "tags": []
   },
   "outputs": [
    {
     "data": {
      "text/plain": [
       "array([[1222,   78],\n",
       "       [  54, 1246]])"
      ]
     },
     "execution_count": 86,
     "metadata": {},
     "output_type": "execute_result"
    }
   ],
   "source": [
    "confusion_matrix(y_test, y_pred)"
   ]
  },
  {
   "cell_type": "markdown",
   "metadata": {
    "id": "lPIenRrysl9b"
   },
   "source": [
    "# Modelling-2"
   ]
  },
  {
   "cell_type": "code",
   "execution_count": 99,
   "metadata": {
    "executionInfo": {
     "elapsed": 23,
     "status": "ok",
     "timestamp": 1665218428945,
     "user": {
      "displayName": "Michael Gd",
      "userId": "11180041065344820766"
     },
     "user_tz": -180
    },
    "id": "6Dnzknlxsl9b"
   },
   "outputs": [],
   "source": [
    "model2 = Sequential()\n",
    "\n",
    "model2.add(Conv2D(filters=64,\n",
    "                  kernel_size=(3, 3),\n",
    "                  input_shape=image_shape,\n",
    "                  padding='same',\n",
    "                  activation='relu'))\n",
    "model2.add(MaxPooling2D(pool_size=(2, 2)))\n",
    "\n",
    "model2.add(Conv2D(filters=128,\n",
    "                  kernel_size=(3, 3),\n",
    "                  padding='same',\n",
    "                  activation='relu'))\n",
    "model2.add(Conv2D(filters=128,\n",
    "                  kernel_size=(3, 3),\n",
    "                  padding='same',\n",
    "                  activation='relu'))\n",
    "model2.add(MaxPooling2D(pool_size=(2, 2)))\n",
    "\n",
    "model2.add(Conv2D(filters=256,\n",
    "                  kernel_size=(3, 3),\n",
    "                  padding='same',\n",
    "                  activation='relu'))\n",
    "model2.add(Conv2D(filters=256,\n",
    "                  kernel_size=(3, 3),\n",
    "                  padding='same',\n",
    "                  activation='relu'))\n",
    "model2.add(Conv2D(filters=256,\n",
    "                  kernel_size=(3, 3),\n",
    "                  padding='same',\n",
    "                  activation='relu'))\n",
    "model2.add(MaxPooling2D(pool_size=(2, 2)))\n",
    "\n",
    "model2.add(Conv2D(filters=128, kernel_size=(3, 3),\n",
    "                  padding='same',\n",
    "                  activation='relu'))\n",
    "model2.add(MaxPooling2D(pool_size=(2, 2)))\n",
    "\n",
    "model2.add(Conv2D(filters=64,\n",
    "                  kernel_size=(3, 3),\n",
    "                  padding='same',\n",
    "                  activation='relu'))\n",
    "model2.add(MaxPooling2D(pool_size=(2, 2)))\n",
    "\n",
    "\n",
    "model2.add(Flatten())\n",
    "\n",
    "\n",
    "model2.add(Dense(128))\n",
    "model2.add(Activation('relu'))\n",
    "model2.add(Dropout(0.5))\n",
    "\n",
    "model2.add(Dense(1))\n",
    "model2.add(Activation('sigmoid'))\n",
    "\n",
    "model2.compile(loss='binary_crossentropy',\n",
    "               optimizer='adam',\n",
    "               metrics=['accuracy'])"
   ]
  },
  {
   "cell_type": "code",
   "execution_count": 100,
   "metadata": {
    "colab": {
     "base_uri": "https://localhost:8080/"
    },
    "executionInfo": {
     "elapsed": 480,
     "status": "ok",
     "timestamp": 1665218429403,
     "user": {
      "displayName": "Michael Gd",
      "userId": "11180041065344820766"
     },
     "user_tz": -180
    },
    "id": "waeAEJGSsl9c",
    "outputId": "1b1e0f6b-158f-433a-9e79-0816a15200ca"
   },
   "outputs": [
    {
     "name": "stdout",
     "output_type": "stream",
     "text": [
      "Model: \"sequential_2\"\n",
      "_________________________________________________________________\n",
      " Layer (type)                Output Shape              Param #   \n",
      "=================================================================\n",
      " conv2d_11 (Conv2D)          (None, 130, 130, 64)      1792      \n",
      "                                                                 \n",
      " max_pooling2d_8 (MaxPooling  (None, 65, 65, 64)       0         \n",
      " 2D)                                                             \n",
      "                                                                 \n",
      " conv2d_12 (Conv2D)          (None, 65, 65, 128)       73856     \n",
      "                                                                 \n",
      " conv2d_13 (Conv2D)          (None, 65, 65, 128)       147584    \n",
      "                                                                 \n",
      " max_pooling2d_9 (MaxPooling  (None, 32, 32, 128)      0         \n",
      " 2D)                                                             \n",
      "                                                                 \n",
      " conv2d_14 (Conv2D)          (None, 32, 32, 256)       295168    \n",
      "                                                                 \n",
      " conv2d_15 (Conv2D)          (None, 32, 32, 256)       590080    \n",
      "                                                                 \n",
      " conv2d_16 (Conv2D)          (None, 32, 32, 256)       590080    \n",
      "                                                                 \n",
      " max_pooling2d_10 (MaxPoolin  (None, 16, 16, 256)      0         \n",
      " g2D)                                                            \n",
      "                                                                 \n",
      " conv2d_17 (Conv2D)          (None, 16, 16, 128)       295040    \n",
      "                                                                 \n",
      " max_pooling2d_11 (MaxPoolin  (None, 8, 8, 128)        0         \n",
      " g2D)                                                            \n",
      "                                                                 \n",
      " conv2d_18 (Conv2D)          (None, 8, 8, 64)          73792     \n",
      "                                                                 \n",
      " max_pooling2d_12 (MaxPoolin  (None, 4, 4, 64)         0         \n",
      " g2D)                                                            \n",
      "                                                                 \n",
      " flatten_2 (Flatten)         (None, 1024)              0         \n",
      "                                                                 \n",
      " dense_4 (Dense)             (None, 128)               131200    \n",
      "                                                                 \n",
      " activation_4 (Activation)   (None, 128)               0         \n",
      "                                                                 \n",
      " dropout_2 (Dropout)         (None, 128)               0         \n",
      "                                                                 \n",
      " dense_5 (Dense)             (None, 1)                 129       \n",
      "                                                                 \n",
      " activation_5 (Activation)   (None, 1)                 0         \n",
      "                                                                 \n",
      "=================================================================\n",
      "Total params: 2,198,721\n",
      "Trainable params: 2,198,721\n",
      "Non-trainable params: 0\n",
      "_________________________________________________________________\n"
     ]
    }
   ],
   "source": [
    "model2.summary()"
   ]
  },
  {
   "cell_type": "code",
   "execution_count": 101,
   "metadata": {
    "executionInfo": {
     "elapsed": 7,
     "status": "ok",
     "timestamp": 1665218429404,
     "user": {
      "displayName": "Michael Gd",
      "userId": "11180041065344820766"
     },
     "user_tz": -180
    },
    "id": "tLSLjgiPsl9c"
   },
   "outputs": [],
   "source": [
    "early_stop = EarlyStopping(monitor='val_loss', patience=4, restore_best_weights=True)"
   ]
  },
  {
   "cell_type": "code",
   "execution_count": 102,
   "metadata": {
    "colab": {
     "base_uri": "https://localhost:8080/"
    },
    "executionInfo": {
     "elapsed": 682823,
     "status": "ok",
     "timestamp": 1665219112221,
     "user": {
      "displayName": "Michael Gd",
      "userId": "11180041065344820766"
     },
     "user_tz": -180
    },
    "id": "mVbSg-qLsl9c",
    "outputId": "9b3e8e95-83bb-4219-942b-81af7fac3037",
    "scrolled": true
   },
   "outputs": [
    {
     "name": "stdout",
     "output_type": "stream",
     "text": [
      "Epoch 1/15\n",
      "780/780 [==============================] - 56s 71ms/step - loss: 0.5355 - accuracy: 0.7022 - val_loss: 0.1791 - val_accuracy: 0.9465\n",
      "Epoch 2/15\n",
      "780/780 [==============================] - 55s 70ms/step - loss: 0.1748 - accuracy: 0.9478 - val_loss: 0.1544 - val_accuracy: 0.9512\n",
      "Epoch 3/15\n",
      "780/780 [==============================] - 55s 70ms/step - loss: 0.1674 - accuracy: 0.9506 - val_loss: 0.1681 - val_accuracy: 0.9473\n",
      "Epoch 4/15\n",
      "780/780 [==============================] - 56s 71ms/step - loss: 0.1600 - accuracy: 0.9504 - val_loss: 0.1471 - val_accuracy: 0.9500\n",
      "Epoch 5/15\n",
      "780/780 [==============================] - 55s 71ms/step - loss: 0.1608 - accuracy: 0.9516 - val_loss: 0.1571 - val_accuracy: 0.9515\n",
      "Epoch 6/15\n",
      "780/780 [==============================] - 56s 71ms/step - loss: 0.1597 - accuracy: 0.9522 - val_loss: 0.1627 - val_accuracy: 0.9519\n",
      "Epoch 7/15\n",
      "780/780 [==============================] - 53s 68ms/step - loss: 0.1506 - accuracy: 0.9540 - val_loss: 0.1608 - val_accuracy: 0.9523\n",
      "Epoch 8/15\n",
      "780/780 [==============================] - 54s 69ms/step - loss: 0.1480 - accuracy: 0.9547 - val_loss: 0.1513 - val_accuracy: 0.9535\n"
     ]
    },
    {
     "data": {
      "text/plain": [
       "<keras.callbacks.History at 0x7fb5787a5270>"
      ]
     },
     "execution_count": 102,
     "metadata": {},
     "output_type": "execute_result"
    }
   ],
   "source": [
    "model2.fit(train_image_gen,\n",
    "           epochs=15,\n",
    "           steps_per_epoch=len(train_image_gen),\n",
    "           validation_data=test_image_gen,\n",
    "           validation_steps=len(test_image_gen),\n",
    "           callbacks=[early_stop])"
   ]
  },
  {
   "cell_type": "code",
   "execution_count": 103,
   "metadata": {
    "colab": {
     "base_uri": "https://localhost:8080/"
    },
    "executionInfo": {
     "elapsed": 16,
     "status": "ok",
     "timestamp": 1665219112222,
     "user": {
      "displayName": "Michael Gd",
      "userId": "11180041065344820766"
     },
     "user_tz": -180
    },
    "id": "CiIRPi0qsl9c",
    "outputId": "68f8bdec-8e47-4f15-904a-395451c960da"
   },
   "outputs": [
    {
     "data": {
      "text/plain": [
       "['loss', 'accuracy']"
      ]
     },
     "execution_count": 103,
     "metadata": {},
     "output_type": "execute_result"
    }
   ],
   "source": [
    "model2.metrics_names"
   ]
  },
  {
   "cell_type": "code",
   "execution_count": 104,
   "metadata": {
    "colab": {
     "base_uri": "https://localhost:8080/",
     "height": 206
    },
    "executionInfo": {
     "elapsed": 10,
     "status": "ok",
     "timestamp": 1665219112223,
     "user": {
      "displayName": "Michael Gd",
      "userId": "11180041065344820766"
     },
     "user_tz": -180
    },
    "id": "28IfaCRpsl9d",
    "outputId": "6f086b67-1f71-4cac-a15b-ccbd515bc9de"
   },
   "outputs": [
    {
     "data": {
      "text/html": [
       "<div>\n",
       "<style scoped>\n",
       "    .dataframe tbody tr th:only-of-type {\n",
       "        vertical-align: middle;\n",
       "    }\n",
       "\n",
       "    .dataframe tbody tr th {\n",
       "        vertical-align: top;\n",
       "    }\n",
       "\n",
       "    .dataframe thead th {\n",
       "        text-align: right;\n",
       "    }\n",
       "</style>\n",
       "<table border=\"1\" class=\"dataframe\">\n",
       "  <thead>\n",
       "    <tr style=\"text-align: right;\">\n",
       "      <th></th>\n",
       "      <th>loss</th>\n",
       "      <th>accuracy</th>\n",
       "      <th>val_loss</th>\n",
       "      <th>val_accuracy</th>\n",
       "    </tr>\n",
       "  </thead>\n",
       "  <tbody>\n",
       "    <tr>\n",
       "      <th>0</th>\n",
       "      <td>0.536</td>\n",
       "      <td>0.702</td>\n",
       "      <td>0.179</td>\n",
       "      <td>0.947</td>\n",
       "    </tr>\n",
       "    <tr>\n",
       "      <th>1</th>\n",
       "      <td>0.175</td>\n",
       "      <td>0.948</td>\n",
       "      <td>0.154</td>\n",
       "      <td>0.951</td>\n",
       "    </tr>\n",
       "    <tr>\n",
       "      <th>2</th>\n",
       "      <td>0.167</td>\n",
       "      <td>0.951</td>\n",
       "      <td>0.168</td>\n",
       "      <td>0.947</td>\n",
       "    </tr>\n",
       "    <tr>\n",
       "      <th>3</th>\n",
       "      <td>0.160</td>\n",
       "      <td>0.950</td>\n",
       "      <td>0.147</td>\n",
       "      <td>0.950</td>\n",
       "    </tr>\n",
       "    <tr>\n",
       "      <th>4</th>\n",
       "      <td>0.161</td>\n",
       "      <td>0.952</td>\n",
       "      <td>0.157</td>\n",
       "      <td>0.952</td>\n",
       "    </tr>\n",
       "  </tbody>\n",
       "</table>\n",
       "</div>"
      ],
      "text/plain": [
       "   loss  accuracy  val_loss  val_accuracy\n",
       "0 0.536     0.702     0.179         0.947\n",
       "1 0.175     0.948     0.154         0.951\n",
       "2 0.167     0.951     0.168         0.947\n",
       "3 0.160     0.950     0.147         0.950\n",
       "4 0.161     0.952     0.157         0.952"
      ]
     },
     "execution_count": 104,
     "metadata": {},
     "output_type": "execute_result"
    }
   ],
   "source": [
    "summary = pd.DataFrame(model2.history.history)\n",
    "summary.head()"
   ]
  },
  {
   "cell_type": "code",
   "execution_count": 105,
   "metadata": {
    "colab": {
     "base_uri": "https://localhost:8080/",
     "height": 374
    },
    "executionInfo": {
     "elapsed": 499,
     "status": "ok",
     "timestamp": 1665219112714,
     "user": {
      "displayName": "Michael Gd",
      "userId": "11180041065344820766"
     },
     "user_tz": -180
    },
    "id": "zyO6Cmv_sl9d",
    "outputId": "b7ef4a84-f60a-43f1-b0f0-c8e5468b1356"
   },
   "outputs": [
    {
     "data": {
      "image/png": "[encoded data removed]",
      "text/plain": [
       "<Figure size 1000x600 with 1 Axes>"
      ]
     },
     "metadata": {},
     "output_type": "display_data"
    }
   ],
   "source": [
    "summary[[\"loss\", \"val_loss\"]].plot()\n",
    "plt.show()"
   ]
  },
  {
   "cell_type": "code",
   "execution_count": 106,
   "metadata": {
    "colab": {
     "base_uri": "https://localhost:8080/",
     "height": 374
    },
    "executionInfo": {
     "elapsed": 266,
     "status": "ok",
     "timestamp": 1665219112973,
     "user": {
      "displayName": "Michael Gd",
      "userId": "11180041065344820766"
     },
     "user_tz": -180
    },
    "id": "_D-FnA7Ksl9d",
    "outputId": "bf420b3d-c9a1-4c63-ed5e-1738f748ed55"
   },
   "outputs": [
    {
     "data": {
      "image/png": "[encoded data removed]",
      "text/plain": [
       "<Figure size 1000x600 with 1 Axes>"
      ]
     },
     "metadata": {},
     "output_type": "display_data"
    }
   ],
   "source": [
    "summary[[\"accuracy\", \"val_accuracy\"]].plot()\n",
    "plt.show()"
   ]
  },
  {
   "cell_type": "markdown",
   "metadata": {
    "id": "F2bTLAvQsl9d"
   },
   "source": [
    "# Evaluation on Test Data"
   ]
  },
  {
   "cell_type": "code",
   "execution_count": 107,
   "metadata": {
    "colab": {
     "base_uri": "https://localhost:8080/"
    },
    "executionInfo": {
     "elapsed": 12559,
     "status": "ok",
     "timestamp": 1665219125527,
     "user": {
      "displayName": "Michael Gd",
      "userId": "11180041065344820766"
     },
     "user_tz": -180
    },
    "id": "rKRt861Wsl9e",
    "outputId": "c730f055-fcaa-41d5-d21c-e1c536cb6473"
   },
   "outputs": [
    {
     "name": "stdout",
     "output_type": "stream",
     "text": [
      "82/82 [==============================] - 1s 16ms/step - loss: 0.1471 - accuracy: 0.9500\n",
      "Test loss: 0.1471390426158905\n",
      "Test accuracy: 0.949999988079071\n"
     ]
    }
   ],
   "source": [
    "score = model2.evaluate(test_image_gen)\n",
    "print('Test loss:', score[0])\n",
    "print('Test accuracy:', score[1])"
   ]
  },
  {
   "cell_type": "code",
   "execution_count": 108,
   "metadata": {
    "executionInfo": {
     "elapsed": 13694,
     "status": "ok",
     "timestamp": 1665219139215,
     "user": {
      "displayName": "Michael Gd",
      "userId": "11180041065344820766"
     },
     "user_tz": -180
    },
    "id": "kP3oobifsl9e"
   },
   "outputs": [
    {
     "name": "stdout",
     "output_type": "stream",
     "text": [
      "82/82 [==============================] - 1s 16ms/step\n"
     ]
    }
   ],
   "source": [
    "pred_prob = model2.predict(test_image_gen)"
   ]
  },
  {
   "cell_type": "code",
   "execution_count": 109,
   "metadata": {
    "executionInfo": {
     "elapsed": 22,
     "status": "ok",
     "timestamp": 1665219139216,
     "user": {
      "displayName": "Michael Gd",
      "userId": "11180041065344820766"
     },
     "user_tz": -180
    },
    "id": "93Jub8WGsl9f"
   },
   "outputs": [],
   "source": [
    "y_pred = pred_prob > 0.5"
   ]
  },
  {
   "cell_type": "code",
   "execution_count": 110,
   "metadata": {
    "colab": {
     "base_uri": "https://localhost:8080/"
    },
    "executionInfo": {
     "elapsed": 21,
     "status": "ok",
     "timestamp": 1665219139216,
     "user": {
      "displayName": "Michael Gd",
      "userId": "11180041065344820766"
     },
     "user_tz": -180
    },
    "id": "sTWX-UTMsl9f",
    "outputId": "4bbede66-c979-4f69-c01e-c8ac31194c16"
   },
   "outputs": [
    {
     "name": "stdout",
     "output_type": "stream",
     "text": [
      "              precision    recall  f1-score   support\n",
      "\n",
      "           0       0.94      0.96      0.95      1300\n",
      "           1       0.96      0.94      0.95      1300\n",
      "\n",
      "    accuracy                           0.95      2600\n",
      "   macro avg       0.95      0.95      0.95      2600\n",
      "weighted avg       0.95      0.95      0.95      2600\n",
      "\n"
     ]
    }
   ],
   "source": [
    "print(classification_report(y_test, y_pred))"
   ]
  },
  {
   "cell_type": "code",
   "execution_count": 111,
   "metadata": {
    "colab": {
     "base_uri": "https://localhost:8080/"
    },
    "executionInfo": {
     "elapsed": 19,
     "status": "ok",
     "timestamp": 1665219139217,
     "user": {
      "displayName": "Michael Gd",
      "userId": "11180041065344820766"
     },
     "user_tz": -180
    },
    "id": "oUdsEhpJsl9g",
    "outputId": "811148e8-4668-4d39-b45b-d6b24155b92b"
   },
   "outputs": [
    {
     "data": {
      "text/plain": [
       "array([[1243,   57],\n",
       "       [  73, 1227]])"
      ]
     },
     "execution_count": 111,
     "metadata": {},
     "output_type": "execute_result"
    }
   ],
   "source": [
    "confusion_matrix(y_test, y_pred)"
   ]
  },
  {
   "cell_type": "code",
   "execution_count": 112,
   "metadata": {
    "executionInfo": {
     "elapsed": 15,
     "status": "ok",
     "timestamp": 1665219139217,
     "user": {
      "displayName": "Michael Gd",
      "userId": "11180041065344820766"
     },
     "user_tz": -180
    },
    "id": "WR3JOvQhsl9g"
   },
   "outputs": [],
   "source": [
    "model1.save('malaria_model.h5')"
   ]
  },
  {
   "cell_type": "markdown",
   "metadata": {
    "id": "k17LqDfKsl9g"
   },
   "source": [
    "# Prediction"
   ]
  },
  {
   "cell_type": "code",
   "execution_count": 113,
   "metadata": {
    "executionInfo": {
     "elapsed": 14,
     "status": "ok",
     "timestamp": 1665219139217,
     "user": {
      "displayName": "Michael Gd",
      "userId": "11180041065344820766"
     },
     "user_tz": -180
    },
    "id": "HMDO0Dgv194o"
   },
   "outputs": [],
   "source": [
    "from tensorflow.keras.models import load_model\n",
    "from tensorflow.keras.preprocessing import image"
   ]
  },
  {
   "cell_type": "code",
   "execution_count": 114,
   "metadata": {
    "executionInfo": {
     "elapsed": 459,
     "status": "ok",
     "timestamp": 1665219139662,
     "user": {
      "displayName": "Michael Gd",
      "userId": "11180041065344820766"
     },
     "user_tz": -180
    },
    "id": "p4_7g3rEDiJ7"
   },
   "outputs": [],
   "source": [
    "model = load_model('malaria_model.h5')"
   ]
  },
  {
   "cell_type": "code",
   "execution_count": 115,
   "metadata": {
    "colab": {
     "base_uri": "https://localhost:8080/",
     "height": 36
    },
    "executionInfo": {
     "elapsed": 43,
     "status": "ok",
     "timestamp": 1665219139663,
     "user": {
      "displayName": "Michael Gd",
      "userId": "11180041065344820766"
     },
     "user_tz": -180
    },
    "id": "PLkgTS3cGHTv",
    "outputId": "5c2c1c78-f257-4244-bd3d-344540d4b8c4"
   },
   "outputs": [
    {
     "data": {
      "text/plain": [
       "'parasitized'"
      ]
     },
     "execution_count": 115,
     "metadata": {},
     "output_type": "execute_result"
    }
   ],
   "source": [
    "target_class = random.choice(class_names)\n",
    "target_class"
   ]
  },
  {
   "cell_type": "code",
   "execution_count": 117,
   "metadata": {
    "colab": {
     "base_uri": "https://localhost:8080/"
    },
    "executionInfo": {
     "elapsed": 42,
     "status": "ok",
     "timestamp": 1665219139663,
     "user": {
      "displayName": "Michael Gd",
      "userId": "11180041065344820766"
     },
     "user_tz": -180
    },
    "id": "8paR170UBXzt",
    "outputId": "82bf9f42-1011-4256-e846-8e4c64289a5c"
   },
   "outputs": [
    {
     "data": {
      "text/plain": [
       "['C81P42ThinF_IMG_20150817_121113_cell_176.png']"
      ]
     },
     "execution_count": 117,
     "metadata": {},
     "output_type": "execute_result"
    }
   ],
   "source": [
    "random_image = random.sample(\n",
    "    os.listdir(os.path.join(test_path, target_class)),\n",
    "    1)\n",
    "random_image"
   ]
  },
  {
   "cell_type": "code",
   "execution_count": 118,
   "metadata": {
    "colab": {
     "base_uri": "https://localhost:8080/",
     "height": 36
    },
    "executionInfo": {
     "elapsed": 38,
     "status": "ok",
     "timestamp": 1665219139664,
     "user": {
      "displayName": "Michael Gd",
      "userId": "11180041065344820766"
     },
     "user_tz": -180
    },
    "id": "oeLS4RgHCCm6",
    "outputId": "631ebc9f-4fa8-4a1f-eb1f-61a7e7c5fdfa"
   },
   "outputs": [
    {
     "data": {
      "text/plain": [
       "'cell_images/test/parasitized/C81P42ThinF_IMG_20150817_121113_cell_176.png'"
      ]
     },
     "execution_count": 118,
     "metadata": {},
     "output_type": "execute_result"
    }
   ],
   "source": [
    "image_path = os.path.join(test_path, target_class, random_image[0])\n",
    "image_path"
   ]
  },
  {
   "cell_type": "code",
   "execution_count": 119,
   "metadata": {
    "executionInfo": {
     "elapsed": 38,
     "status": "ok",
     "timestamp": 1665219139665,
     "user": {
      "displayName": "Michael Gd",
      "userId": "11180041065344820766"
     },
     "user_tz": -180
    },
    "id": "RCxuuqwOsl9h"
   },
   "outputs": [],
   "source": [
    "my_image = image.load_img(image_path, target_size=image_shape)"
   ]
  },
  {
   "cell_type": "code",
   "execution_count": 120,
   "metadata": {
    "colab": {
     "base_uri": "https://localhost:8080/",
     "height": 147
    },
    "executionInfo": {
     "elapsed": 38,
     "status": "ok",
     "timestamp": 1665219139666,
     "user": {
      "displayName": "Michael Gd",
      "userId": "11180041065344820766"
     },
     "user_tz": -180
    },
    "id": "3GtFgC0gsl9h",
    "outputId": "e0e96484-8b66-4493-87a1-3b366f59d606"
   },
   "outputs": [
    {
     "data": {
      "image/png": "[encoded data removed]",
      "text/plain": [
       "<PIL.Image.Image image mode=RGB size=130x130>"
      ]
     },
     "execution_count": 120,
     "metadata": {},
     "output_type": "execute_result"
    }
   ],
   "source": [
    "my_image"
   ]
  },
  {
   "cell_type": "code",
   "execution_count": 121,
   "metadata": {
    "colab": {
     "base_uri": "https://localhost:8080/"
    },
    "executionInfo": {
     "elapsed": 38,
     "status": "ok",
     "timestamp": 1665219139667,
     "user": {
      "displayName": "Michael Gd",
      "userId": "11180041065344820766"
     },
     "user_tz": -180
    },
    "id": "-wfKWRy55R_1",
    "outputId": "f678f4a2-412d-46e2-f42c-168cb7f99aad"
   },
   "outputs": [
    {
     "data": {
      "text/plain": [
       "PIL.Image.Image"
      ]
     },
     "execution_count": 121,
     "metadata": {},
     "output_type": "execute_result"
    }
   ],
   "source": [
    "type(my_image)"
   ]
  },
  {
   "cell_type": "code",
   "execution_count": 122,
   "metadata": {
    "executionInfo": {
     "elapsed": 32,
     "status": "ok",
     "timestamp": 1665219139667,
     "user": {
      "displayName": "Michael Gd",
      "userId": "11180041065344820766"
     },
     "user_tz": -180
    },
    "id": "Q9J8ngv-TVIV"
   },
   "outputs": [],
   "source": [
    "# my_image = np.array(my_image)\n",
    "my_image = image.img_to_array(my_image)"
   ]
  },
  {
   "cell_type": "code",
   "execution_count": 123,
   "metadata": {
    "colab": {
     "base_uri": "https://localhost:8080/"
    },
    "executionInfo": {
     "elapsed": 32,
     "status": "ok",
     "timestamp": 1665219139668,
     "user": {
      "displayName": "Michael Gd",
      "userId": "11180041065344820766"
     },
     "user_tz": -180
    },
    "id": "IJfZ-ILKsl9i",
    "outputId": "08d85efb-8d16-481f-93a1-0b2d6371afd3"
   },
   "outputs": [
    {
     "data": {
      "text/plain": [
       "(130, 130, 3)"
      ]
     },
     "execution_count": 123,
     "metadata": {},
     "output_type": "execute_result"
    }
   ],
   "source": [
    "my_image.shape"
   ]
  },
  {
   "cell_type": "code",
   "execution_count": 124,
   "metadata": {
    "executionInfo": {
     "elapsed": 28,
     "status": "ok",
     "timestamp": 1665219139669,
     "user": {
      "displayName": "Michael Gd",
      "userId": "11180041065344820766"
     },
     "user_tz": -180
    },
    "id": "n9-XbB8Rsl9i"
   },
   "outputs": [],
   "source": [
    "my_image = np.expand_dims(my_image, axis=0)"
   ]
  },
  {
   "cell_type": "code",
   "execution_count": 125,
   "metadata": {
    "colab": {
     "base_uri": "https://localhost:8080/"
    },
    "executionInfo": {
     "elapsed": 28,
     "status": "ok",
     "timestamp": 1665219139670,
     "user": {
      "displayName": "Michael Gd",
      "userId": "11180041065344820766"
     },
     "user_tz": -180
    },
    "id": "ZuV5DH_fsl9i",
    "outputId": "27e37724-2ea8-42c3-e4ae-8d1c6b643f91"
   },
   "outputs": [
    {
     "data": {
      "text/plain": [
       "(1, 130, 130, 3)"
      ]
     },
     "execution_count": 125,
     "metadata": {},
     "output_type": "execute_result"
    }
   ],
   "source": [
    "my_image.shape"
   ]
  },
  {
   "cell_type": "code",
   "execution_count": 126,
   "metadata": {
    "colab": {
     "base_uri": "https://localhost:8080/"
    },
    "executionInfo": {
     "elapsed": 439,
     "status": "ok",
     "timestamp": 1665219140087,
     "user": {
      "displayName": "Michael Gd",
      "userId": "11180041065344820766"
     },
     "user_tz": -180
    },
    "id": "p5wQ4c6Zsl9i",
    "outputId": "a6af08d4-22b2-41b0-d505-15b763d096e3"
   },
   "outputs": [
    {
     "name": "stdout",
     "output_type": "stream",
     "text": [
      "1/1 [==============================] - 0s 80ms/step\n"
     ]
    },
    {
     "data": {
      "text/plain": [
       "array([[2.0561778e-05]], dtype=float32)"
      ]
     },
     "execution_count": 126,
     "metadata": {},
     "output_type": "execute_result"
    }
   ],
   "source": [
    "model.predict(my_image)"
   ]
  },
  {
   "cell_type": "code",
   "execution_count": 127,
   "metadata": {
    "colab": {
     "base_uri": "https://localhost:8080/"
    },
    "executionInfo": {
     "elapsed": 20,
     "status": "ok",
     "timestamp": 1665219140089,
     "user": {
      "displayName": "Michael Gd",
      "userId": "11180041065344820766"
     },
     "user_tz": -180
    },
    "id": "ETuvfYOksl9i",
    "outputId": "d10f5da1-1f49-45cc-f165-5401bf139a4e"
   },
   "outputs": [
    {
     "data": {
      "text/plain": [
       "{'parasitized': 0, 'uninfected': 1}"
      ]
     },
     "execution_count": 127,
     "metadata": {},
     "output_type": "execute_result"
    }
   ],
   "source": [
    "train_image_gen.class_indices"
   ]
  },
  {
   "cell_type": "code",
   "execution_count": 128,
   "metadata": {
    "executionInfo": {
     "elapsed": 14,
     "status": "ok",
     "timestamp": 1665219140090,
     "user": {
      "displayName": "Michael Gd",
      "userId": "11180041065344820766"
     },
     "user_tz": -180
    },
    "id": "v9okpvkVD_aM"
   },
   "outputs": [],
   "source": [
    "def pred_and_plot(model, img_size):\n",
    "    \"\"\"\n",
    "    Imports an image located at filename, makes a prediction on it with\n",
    "    a trained model and plots the image with the predicted class as the title.\n",
    "    \"\"\"\n",
    "    # Import the target image and preprocess it\n",
    "    target_class = random.choice(class_names)\n",
    "    random_image = random.sample(\n",
    "        os.listdir(os.path.join(test_path, target_class)),\n",
    "        1)\n",
    "    img_path = os.path.join(test_path, target_class, random_image[0])\n",
    "    img = image.load_img(img_path, target_size=img_size)\n",
    "    img = np.array(img)\n",
    "\n",
    "    # Make a prediction\n",
    "    pred = model.predict(np.expand_dims(img, axis=0))\n",
    "    print(\"prediction_probability: \", pred.max())\n",
    "\n",
    "    # Get the predicted class\n",
    "    if len(pred[0]) > 1:  # check for multi-class\n",
    "        pred_class = class_names[pred.argmax()]  # if more than one output, take the max\n",
    "    else:\n",
    "        pred_class = class_names[int(tf.round(pred)[0][0])]  # if only one output, round\n",
    "\n",
    "    # Plot the image and predicted class\n",
    "    plt.imshow(img)\n",
    "    plt.title(f\"Prediction: {pred_class}\")\n",
    "    plt.axis(False);"
   ]
  },
  {
   "cell_type": "code",
   "execution_count": 129,
   "metadata": {
    "colab": {
     "base_uri": "https://localhost:8080/",
     "height": 391
    },
    "executionInfo": {
     "elapsed": 1116,
     "status": "ok",
     "timestamp": 1665219141193,
     "user": {
      "displayName": "Michael Gd",
      "userId": "11180041065344820766"
     },
     "user_tz": -180
    },
    "id": "In7S6mq_HLvu",
    "outputId": "612c704c-4ef5-46ea-ad6f-2f3920ac9ce5"
   },
   "outputs": [
    {
     "name": "stdout",
     "output_type": "stream",
     "text": [
      "1/1 [==============================] - 0s 40ms/step\n",
      "prediction_probability:  1.0631331e-05\n"
     ]
    },
    {
     "data": {
      "image/png": "[encoded data removed]",
      "text/plain": [
       "<Figure size 1000x600 with 1 Axes>"
      ]
     },
     "metadata": {},
     "output_type": "display_data"
    }
   ],
   "source": [
    "pred_and_plot(model, (130, 130))"
   ]
  }
 ],
 "metadata": {
  "accelerator": "GPU",
  "colab": {
   "collapsed_sections": [],
   "provenance": []
  },
  "gpuClass": "standard",
  "kernelspec": {
   "display_name": "Python 3 (ipykernel)",
   "language": "python",
   "name": "python3"
  },
  "language_info": {
   "codemirror_mode": {
    "name": "ipython",
    "version": 3
   },
   "file_extension": ".py",
   "mimetype": "text/x-python",
   "name": "python",
   "nbconvert_exporter": "python",
   "pygments_lexer": "ipython3",
   "version": "3.7.12"
  },
  "toc": {
   "base_numbering": 1,
   "nav_menu": {},
   "number_sections": false,
   "sideBar": true,
   "skip_h1_title": false,
   "title_cell": "Table of Contents",
   "title_sidebar": "Contents",
   "toc_cell": false,
   "toc_position": {},
   "toc_section_display": true,
   "toc_window_display": true
  }
 },
 "nbformat": 4,
 "nbformat_minor": 4
}
